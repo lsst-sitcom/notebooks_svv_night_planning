{
 "cells": [
  {
   "cell_type": "markdown",
   "id": "bf6e11a2-b441-4699-bbbe-8b8a5c04befc",
   "metadata": {
    "execution": {
     "iopub.execute_input": "2025-04-22T06:41:30.057833Z",
     "iopub.status.busy": "2025-04-22T06:41:30.057482Z",
     "iopub.status.idle": "2025-04-22T06:41:30.059893Z",
     "shell.execute_reply": "2025-04-22T06:41:30.059561Z",
     "shell.execute_reply.started": "2025-04-22T06:41:30.057815Z"
    }
   },
   "source": [
    "# Field Survey Campaign Progress"
   ]
  },
  {
   "cell_type": "code",
   "execution_count": null,
   "id": "99e28f3e-29be-4157-a480-9b9bdf6d8333",
   "metadata": {},
   "outputs": [],
   "source": [
    "# Parameters cell. Set defaults here\n",
    "day_obs_min = 20250421\n",
    "day_obs_max = 20250601"
   ]
  },
  {
   "cell_type": "code",
   "execution_count": null,
   "id": "e0cdb034-559a-468a-81d4-d85ccd3f560a",
   "metadata": {},
   "outputs": [],
   "source": [
    "import numpy as np\n",
    "import pandas as pd\n",
    "from astropy.time import Time\n",
    "import matplotlib.pyplot as plt"
   ]
  },
  {
   "cell_type": "code",
   "execution_count": null,
   "id": "d5c4f7ac-cb8e-4328-92ed-19a7979445a1",
   "metadata": {},
   "outputs": [],
   "source": [
    "import os\n",
    "os.environ[\"no_proxy\"] += \",.consdb\"\n",
    "\n",
    "from lsst.summit.utils import ConsDbClient\n",
    "\n",
    "client = ConsDbClient(\"http://consdb-pq.consdb:8080/consdb\")"
   ]
  },
  {
   "cell_type": "code",
   "execution_count": null,
   "id": "813576e6-5c25-4640-ab0f-f0f5196d57cf",
   "metadata": {},
   "outputs": [],
   "source": [
    "instrument = 'lsstcam'"
   ]
  },
  {
   "cell_type": "code",
   "execution_count": null,
   "id": "5eec7cb0-a477-43e3-8dbc-ed1ec4dfe72a",
   "metadata": {},
   "outputs": [],
   "source": [
    "bands = {'u': '#0c71ff', 'g': '#49be61', 'r': '#c61c00', 'i': '#ffc200', 'z': '#f341a2', 'y': '#5d0000'}"
   ]
  },
  {
   "cell_type": "markdown",
   "id": "b379b89d-2f23-41dd-861e-449ad6aa7b5f",
   "metadata": {
    "execution": {
     "iopub.execute_input": "2025-04-22T06:17:19.473738Z",
     "iopub.status.busy": "2025-04-22T06:17:19.473503Z",
     "iopub.status.idle": "2025-04-22T06:17:19.476477Z",
     "shell.execute_reply": "2025-04-22T06:17:19.476011Z",
     "shell.execute_reply.started": "2025-04-22T06:17:19.473721Z"
    }
   },
   "source": [
    "## All Visits"
   ]
  },
  {
   "cell_type": "code",
   "execution_count": null,
   "id": "67ebd3df-7490-4f5a-8219-7a7c94ca0ab9",
   "metadata": {},
   "outputs": [],
   "source": [
    "visits_query = f'''\n",
    "    SELECT \n",
    "        * \n",
    "    FROM \n",
    "        cdb_{instrument}.visit1 \n",
    "    WHERE \n",
    "        day_obs >= {day_obs_min} AND day_obs <= {day_obs_max}\n",
    "'''\n",
    "\n",
    "visits = client.query(visits_query).to_pandas()"
   ]
  },
  {
   "cell_type": "code",
   "execution_count": null,
   "id": "365a77cf-4c6e-480f-bc7d-ca960015c9a8",
   "metadata": {},
   "outputs": [],
   "source": [
    "visits['band'].value_counts().reindex(bands).fillna(0).astype(int)"
   ]
  },
  {
   "cell_type": "code",
   "execution_count": null,
   "id": "3408a7c1-3ab3-45ba-9067-524a9c2365fc",
   "metadata": {},
   "outputs": [],
   "source": [
    "visits['img_type'].value_counts()"
   ]
  },
  {
   "cell_type": "markdown",
   "id": "9360ec2e-84e9-404b-a242-6b84026821d0",
   "metadata": {},
   "source": [
    "## Field Survey Science Program Visits"
   ]
  },
  {
   "cell_type": "code",
   "execution_count": null,
   "id": "ea046968-72e3-40d7-aeac-135baa7dce3a",
   "metadata": {},
   "outputs": [],
   "source": [
    "visits_query = f'''\n",
    "    SELECT \n",
    "        * \n",
    "    FROM \n",
    "        cdb_{instrument}.visit1 \n",
    "    WHERE \n",
    "        science_program in ('BLOCK-365')\n",
    "        AND day_obs >= {day_obs_min} AND day_obs <= {day_obs_max}\n",
    "'''\n",
    "\n",
    "visits = client.query(visits_query).to_pandas()"
   ]
  },
  {
   "cell_type": "code",
   "execution_count": null,
   "id": "03487bb6-97a4-4d27-923e-47b46ee7e235",
   "metadata": {},
   "outputs": [],
   "source": [
    "print('Total number of science program visits = %i'%(len(visits)))"
   ]
  },
  {
   "cell_type": "markdown",
   "id": "65b9e932-bc05-4806-87c6-5f5202212277",
   "metadata": {
    "execution": {
     "iopub.execute_input": "2025-04-22T06:23:37.184143Z",
     "iopub.status.busy": "2025-04-22T06:23:37.183522Z",
     "iopub.status.idle": "2025-04-22T06:23:37.186483Z",
     "shell.execute_reply": "2025-04-22T06:23:37.185973Z",
     "shell.execute_reply.started": "2025-04-22T06:23:37.184109Z"
    }
   },
   "source": [
    "### Distribution of visit day_obs"
   ]
  },
  {
   "cell_type": "code",
   "execution_count": null,
   "id": "15382041-984a-4af7-b9b4-6974a51eadb3",
   "metadata": {},
   "outputs": [],
   "source": [
    "visits['day_obs'].value_counts().sort_index()"
   ]
  },
  {
   "cell_type": "code",
   "execution_count": null,
   "id": "ce74fa9e-e98d-4cf8-b339-3a9c69c2ea08",
   "metadata": {},
   "outputs": [],
   "source": [
    "def dayObsToMJD(day_obs):\n",
    "    year = np.floor(day_obs / 10000).astype(int)\n",
    "    month = np.floor((day_obs % 10000) / 100).astype(int)\n",
    "    day = day_obs % 100\n",
    "    time = Time({'year': year, 'month': month, 'day': day}, format='ymdhms')\n",
    "    return time.mjd"
   ]
  },
  {
   "cell_type": "code",
   "execution_count": null,
   "id": "6b69a6e0-1737-4359-b7e1-8beba608875f",
   "metadata": {},
   "outputs": [],
   "source": [
    "def MJDToDayObs(mjd):\n",
    "    time = Time(mjd, format='mjd')\n",
    "    return np.array([_.iso.split()[0].replace('-', '') for _ in time])"
   ]
  },
  {
   "cell_type": "code",
   "execution_count": null,
   "id": "17af6572-6cc6-49a5-a257-396e9d3ab258",
   "metadata": {},
   "outputs": [],
   "source": [
    "mjd = dayObsToMJD(visits['day_obs'])\n",
    "xticks = np.arange(np.min(mjd), np.max(mjd) + 2)[::2]\n",
    "xtick_labels = MJDToDayObs(xticks)\n",
    "\n",
    "plt.figure()\n",
    "plt.scatter(dayObsToMJD(visits.value_counts('day_obs').index.values), \n",
    "            visits.value_counts('day_obs').values, c='black', label='Total')\n",
    "for band in bands:\n",
    "    selection = (visits['band'] == band)\n",
    "    plt.scatter(dayObsToMJD(visits[selection].value_counts('day_obs').index.values), \n",
    "                visits[selection].value_counts('day_obs').values, \n",
    "                c=bands[band], label=band)\n",
    "\n",
    "plt.legend(loc='upper left')\n",
    "plt.xticks(xticks, xtick_labels, rotation=45.)\n",
    "plt.ylabel('Visit Count')\n",
    "plt.grid()\n",
    "plt.tight_layout()"
   ]
  },
  {
   "cell_type": "markdown",
   "id": "19fd15dd-600c-4a1b-bed0-46cd8bee5301",
   "metadata": {
    "execution": {
     "iopub.execute_input": "2025-04-22T06:28:59.381075Z",
     "iopub.status.busy": "2025-04-22T06:28:59.380866Z",
     "iopub.status.idle": "2025-04-22T06:28:59.383397Z",
     "shell.execute_reply": "2025-04-22T06:28:59.383082Z",
     "shell.execute_reply.started": "2025-04-22T06:28:59.381059Z"
    }
   },
   "source": [
    "### Distribution of visits by target and band"
   ]
  },
  {
   "cell_type": "code",
   "execution_count": null,
   "id": "94cf30be-3de8-48b7-9021-b5cc392ddb1f",
   "metadata": {},
   "outputs": [],
   "source": [
    "targets = np.unique(visits['target_name'])"
   ]
  },
  {
   "cell_type": "code",
   "execution_count": null,
   "id": "8da439cd-6245-4f3d-a705-85294466d4d7",
   "metadata": {},
   "outputs": [],
   "source": [
    "data_target_counts = {\n",
    "    'target': [],\n",
    "    'u': [],\n",
    "    'g': [],\n",
    "    'r': [],\n",
    "    'i': [],\n",
    "    'z': [],\n",
    "    'y': [],\n",
    "    'total': []\n",
    "}\n",
    "\n",
    "for target in targets:\n",
    "    data_target_counts['target'].append(target)\n",
    "    selection_target = (visits['target_name'] == target)\n",
    "    data_target_counts['total'].append(np.sum(selection_target))\n",
    "    for band in bands:\n",
    "        selection_band = (visits['band'] == band)\n",
    "        data_target_counts[band].append(np.sum(selection_band & selection_target))\n",
    "\n",
    "df_target_counts = pd.DataFrame(data_target_counts)\n",
    "df_target_counts"
   ]
  },
  {
   "cell_type": "markdown",
   "id": "e7a5212b-ea3f-489e-a445-57b7c2fa46c6",
   "metadata": {
    "execution": {
     "iopub.execute_input": "2025-04-22T06:57:43.535732Z",
     "iopub.status.busy": "2025-04-22T06:57:43.535510Z",
     "iopub.status.idle": "2025-04-22T06:57:43.538458Z",
     "shell.execute_reply": "2025-04-22T06:57:43.537926Z",
     "shell.execute_reply.started": "2025-04-22T06:57:43.535716Z"
    }
   },
   "source": [
    "### Distribution of visits by target and band on most recent day"
   ]
  },
  {
   "cell_type": "code",
   "execution_count": null,
   "id": "7b43d926-5d8d-4276-a224-9c1eb7159ee6",
   "metadata": {},
   "outputs": [],
   "source": [
    "most_recent_day_obs = np.unique(visits['day_obs'])[-1]\n",
    "selection_day_obs = (visits['day_obs'] == most_recent_day_obs)\n",
    "print(f'Observations on day_obs = {most_recent_day_obs}')"
   ]
  },
  {
   "cell_type": "code",
   "execution_count": null,
   "id": "91583eab-e4f0-4ffc-a67e-dbeb8bcb5a29",
   "metadata": {},
   "outputs": [],
   "source": [
    "data_target_counts = {\n",
    "    'target': [],\n",
    "    'u': [],\n",
    "    'g': [],\n",
    "    'r': [],\n",
    "    'i': [],\n",
    "    'z': [],\n",
    "    'y': [],\n",
    "    'total': []\n",
    "}\n",
    "\n",
    "for target in targets:\n",
    "    data_target_counts['target'].append(target)\n",
    "    selection_target = (visits['target_name'] == target)\n",
    "    data_target_counts['total'].append(np.sum(selection_target & selection_day_obs))\n",
    "    for band in bands:\n",
    "        selection_band = (visits['band'] == band)\n",
    "        data_target_counts[band].append(np.sum(selection_band & selection_target & selection_day_obs))\n",
    "\n",
    "df_target_counts = pd.DataFrame(data_target_counts)\n",
    "df_target_counts"
   ]
  },
  {
   "cell_type": "markdown",
   "id": "1091c0b3-657a-4c12-91ba-4c65552fb1b2",
   "metadata": {
    "execution": {
     "iopub.execute_input": "2025-05-03T18:49:21.046967Z",
     "iopub.status.busy": "2025-05-03T18:49:21.046640Z",
     "iopub.status.idle": "2025-05-03T18:49:21.049519Z",
     "shell.execute_reply": "2025-05-03T18:49:21.049137Z",
     "shell.execute_reply.started": "2025-05-03T18:49:21.046951Z"
    }
   },
   "source": [
    "### Distribution of per-ccd delivered image quality by target and band"
   ]
  },
  {
   "cell_type": "code",
   "execution_count": null,
   "id": "a7824f3a-570b-4af6-844e-64201eb1d9c2",
   "metadata": {},
   "outputs": [],
   "source": [
    "visits_query = f'''\n",
    "    SELECT \n",
    "    ccdvisit1_quicklook.psf_sigma,\n",
    "    visit1.visit_id,\n",
    "    visit1.band,\n",
    "    visit1.day_obs,\n",
    "    visit1.target_name,\n",
    "    visit1.exp_midpt_mjd\n",
    "    FROM\n",
    "    cdb_{instrument}.ccdvisit1_quicklook AS ccdvisit1_quicklook,\n",
    "    cdb_{instrument}.ccdvisit1 AS ccdvisit1, \n",
    "    cdb_{instrument}.visit1 AS visit1 \n",
    "    WHERE \n",
    "    ccdvisit1.ccdvisit_id = ccdvisit1_quicklook.ccdvisit_id\n",
    "    AND ccdvisit1.visit_id = visit1.visit_id \n",
    "    AND visit1.science_program = 'BLOCK-365';\n",
    "'''\n",
    "\n",
    "ccdvisits = client.query(visits_query).to_pandas()"
   ]
  },
  {
   "cell_type": "code",
   "execution_count": null,
   "id": "7e5a5b2b-8257-4092-ba91-d6d5dc99a7ec",
   "metadata": {},
   "outputs": [],
   "source": [
    "ccdvisits[\"psf_fwhm\"]=ccdvisits[\"psf_sigma\"]*2.355*0.2"
   ]
  },
  {
   "cell_type": "code",
   "execution_count": null,
   "id": "308f2e6b-86ac-4125-a6f0-8149c8b3c3a7",
   "metadata": {},
   "outputs": [],
   "source": [
    "targets_ccdvisits = np.unique(ccdvisits['target_name'])\n",
    "\n",
    "for target in targets_ccdvisits:\n",
    "    selection_target = (ccdvisits['target_name'] == target)\n",
    "\n",
    "    plt.figure()\n",
    "    for band in bands:\n",
    "        selection_band = (ccdvisits['band'] == band)\n",
    "        if np.any(selection_target & selection_band):    \n",
    "            plt.hist(ccdvisits[\"psf_fwhm\"][selection_target & selection_band], bins=np.linspace(0., 3., 41), color=bands[band], alpha=0.5, label=band)\n",
    "            plt.hist(ccdvisits[\"psf_fwhm\"][selection_target & selection_band], bins=np.linspace(0., 3., 41), color=bands[band], linewidth=2, histtype='step')\n",
    "    plt.xlim(0.5, 2.5)\n",
    "    plt.xlabel('PSF FWHM (arcsec)')\n",
    "    plt.ylabel('Number of CCDs')\n",
    "    plt.title(f'{target}')\n",
    "    plt.legend(loc='upper right')\n",
    "    plt.tight_layout()"
   ]
  },
  {
   "cell_type": "markdown",
   "id": "b93eb02e-3f73-4a51-9ae9-1fc8483230d6",
   "metadata": {
    "execution": {
     "iopub.execute_input": "2025-05-01T00:44:45.247045Z",
     "iopub.status.busy": "2025-05-01T00:44:45.246713Z",
     "iopub.status.idle": "2025-05-01T00:44:45.249907Z",
     "shell.execute_reply": "2025-05-01T00:44:45.249507Z",
     "shell.execute_reply.started": "2025-05-01T00:44:45.247019Z"
    }
   },
   "source": [
    "### Distribution of per-ccd delivered image quality by target and band on most recent day"
   ]
  },
  {
   "cell_type": "code",
   "execution_count": null,
   "id": "14bfa8fa-4045-40e2-a11a-5382c639f59c",
   "metadata": {},
   "outputs": [],
   "source": [
    "targets_ccdvisits = np.unique(ccdvisits['target_name'])\n",
    "\n",
    "selection_day_obs = (ccdvisits['day_obs'] == most_recent_day_obs)\n",
    "\n",
    "for target in targets_ccdvisits:\n",
    "    selection_target = (ccdvisits['target_name'] == target)\n",
    "\n",
    "    if np.any(selection_target & selection_day_obs):\n",
    "    \n",
    "        plt.figure()\n",
    "        for band in bands:\n",
    "            selection_band = (ccdvisits['band'] == band)\n",
    "            if np.any(selection_target & selection_band & selection_day_obs):    \n",
    "                plt.hist(ccdvisits[\"psf_fwhm\"][selection_target & selection_band & selection_day_obs], bins=np.linspace(0., 3., 41), color=bands[band], alpha=0.5, label=band)\n",
    "                plt.hist(ccdvisits[\"psf_fwhm\"][selection_target & selection_band & selection_day_obs], bins=np.linspace(0., 3., 41), color=bands[band], linewidth=2, histtype='step')\n",
    "        plt.xlim(0.5, 2.5)\n",
    "        plt.xlabel('PSF FWHM (arcsec)')\n",
    "        plt.ylabel('Number of CCDs')\n",
    "        plt.title(f'{target} (day_obs = {most_recent_day_obs})')\n",
    "        plt.legend(loc='upper right')\n",
    "        plt.tight_layout()"
   ]
  },
  {
   "cell_type": "markdown",
   "id": "3fdc29c2-2ef3-4ebc-a330-68949e6321cb",
   "metadata": {},
   "source": [
    "### Distribution of visit airmass"
   ]
  },
  {
   "cell_type": "code",
   "execution_count": null,
   "id": "9b536415-1a31-4af0-b469-af1feb9b6a1a",
   "metadata": {},
   "outputs": [],
   "source": [
    "plt.figure()\n",
    "for target in targets:\n",
    "    selection_target = (visits['target_name'] == target)\n",
    "    # plt.hist(visits['airmass'][selection_target].values, bins=np.linspace(1., 2., 41), alpha=0.5)# label=target)\n",
    "    plt.hist(visits['airmass'][selection_target].values, bins=np.linspace(1., 2., 41), linewidth=2, histtype='step', label=target)\n",
    "plt.legend()\n",
    "plt.xlabel('Airmass')\n",
    "plt.ylabel('Counts')"
   ]
  },
  {
   "cell_type": "markdown",
   "id": "46c6fb79-cf1d-4295-8251-d358efc2f67f",
   "metadata": {
    "execution": {
     "iopub.execute_input": "2025-04-22T06:50:19.682266Z",
     "iopub.status.busy": "2025-04-22T06:50:19.682040Z",
     "iopub.status.idle": "2025-04-22T06:50:19.684471Z",
     "shell.execute_reply": "2025-04-22T06:50:19.684090Z",
     "shell.execute_reply.started": "2025-04-22T06:50:19.682249Z"
    }
   },
   "source": [
    "### Distribution of visit airmass by target and time"
   ]
  },
  {
   "cell_type": "code",
   "execution_count": null,
   "id": "9c1342e1-3424-44d2-993d-12aac4af9d22",
   "metadata": {
    "scrolled": true
   },
   "outputs": [],
   "source": [
    "for target in targets:\n",
    "    selection_target = (visits['target_name'] == target)\n",
    "    \n",
    "    plt.figure()\n",
    "    for band in bands:\n",
    "        selection_band = (visits['band'] == band) \n",
    "        if np.any(selection_target & selection_band):\n",
    "            plt.scatter(dayObsToMJD(visits['day_obs'][selection_target & selection_band]), \n",
    "                        visits['airmass'][selection_target & selection_band], \n",
    "                        c=bands[band], marker='_', label=band)\n",
    "    plt.legend(loc='lower left')\n",
    "    plt.xlim(np.min(xticks) - 0.5, np.max(xticks) + 0.5)\n",
    "    plt.xticks(xticks, xtick_labels, rotation=45.)\n",
    "    plt.ylabel('Airmass')\n",
    "    plt.ylim(1.5, 1.0)\n",
    "    plt.grid()\n",
    "    plt.title(target)\n",
    "    plt.tight_layout()"
   ]
  }
 ],
 "metadata": {
  "kernelspec": {
   "display_name": "LSST",
   "language": "python",
   "name": "lsst"
  },
  "language_info": {
   "codemirror_mode": {
    "name": "ipython",
    "version": 3
   },
   "file_extension": ".py",
   "mimetype": "text/x-python",
   "name": "python",
   "nbconvert_exporter": "python",
   "pygments_lexer": "ipython3",
   "version": "3.12.10"
  }
 },
 "nbformat": 4,
 "nbformat_minor": 5
}
