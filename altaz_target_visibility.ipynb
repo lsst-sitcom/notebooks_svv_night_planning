{
 "cells": [
  {
   "cell_type": "markdown",
   "id": "cf12da6e-968f-4199-a501-60ab24811f83",
   "metadata": {
    "execution": {
     "iopub.execute_input": "2025-04-28T23:26:11.396816Z",
     "iopub.status.busy": "2025-04-28T23:26:11.395753Z",
     "iopub.status.idle": "2025-04-28T23:26:11.400666Z",
     "shell.execute_reply": "2025-04-28T23:26:11.399924Z",
     "shell.execute_reply.started": "2025-04-28T23:26:11.396779Z"
    }
   },
   "source": [
    "# Convert (alt, az, time) to sky coordinate"
   ]
  },
  {
   "cell_type": "code",
   "execution_count": null,
   "id": "f95b6a50-73de-4bab-9148-26d1f1327c31",
   "metadata": {},
   "outputs": [],
   "source": [
    "# Parameters cell. Set defaults here\n",
    "import datetime\n",
    "alt = 60.\n",
    "az = 0.\n",
    "time = datetime.datetime.fromisoformat('2025-05-01T23:59:00Z')"
   ]
  },
  {
   "cell_type": "code",
   "execution_count": null,
   "id": "87db7ce2-f97b-4bc5-93a6-d8e5d4349b20",
   "metadata": {},
   "outputs": [],
   "source": [
    "from astroplan import Observer\n",
    "import pandas as pd\n",
    "import datetime\n",
    "\n",
    "from astropy.coordinates import SkyCoord\n",
    "from astropy.time import Time"
   ]
  },
  {
   "cell_type": "code",
   "execution_count": null,
   "id": "c46aa937-3892-4fa0-aaef-7b97da26852d",
   "metadata": {},
   "outputs": [],
   "source": [
    "observer = Observer.at_site('LSST')"
   ]
  },
  {
   "cell_type": "code",
   "execution_count": null,
   "id": "359f8def-de91-4831-971a-ef41dca624b0",
   "metadata": {},
   "outputs": [],
   "source": [
    "time_datetime = datetime.datetime.fromisoformat(time)\n",
    "time_astropy = Time(time_datetime)\n",
    "alt = 35.\n",
    "az = 55.\n",
    "coord = SkyCoord(alt=alt, az=az, obstime=time_astropy, frame='altaz', unit='deg', location=observer.location)"
   ]
  },
  {
   "cell_type": "code",
   "execution_count": null,
   "id": "fae3a18e-7e37-486c-b1ef-fbd19ea5aec9",
   "metadata": {},
   "outputs": [],
   "source": [
    "def make_clickable(val):\n",
    "    return '<a href=\"{}\">{}</a>'.format(val,'Target Visibility')"
   ]
  },
  {
   "cell_type": "code",
   "execution_count": null,
   "id": "f0983ea6-41a0-4962-8a74-3cf9df88ea87",
   "metadata": {},
   "outputs": [],
   "source": [
    "df = pd.DataFrame(data = {\n",
    "    'ra': [coord.icrs.ra.deg], \n",
    "    'dec': [coord.icrs.dec.deg],\n",
    "    'l': [coord.galactic.l.deg],\n",
    "    'b': [coord.galactic.b.deg],\n",
    "    'ecliptic_lon': [coord.geocentricmeanecliptic.lon.deg],\n",
    "    'ecliptic_lat': [coord.geocentricmeanecliptic.lat.deg],\n",
    "})"
   ]
  },
  {
   "cell_type": "code",
   "execution_count": null,
   "id": "7b31adb8-0722-4a40-a396-6e8d7348f49e",
   "metadata": {},
   "outputs": [],
   "source": [
    "base_string = 'https://usdf-rsp.slac.stanford.edu/times-square/github/lsst-sitcom/notebooks_svv_night_planning/target_visibility?ra={ra}&dec={dec}&name={name}&time={time}&ts_hide_code=1'\n",
    "link = []\n",
    "for ii in range(0, len(df)):\n",
    "    link.append(\n",
    "        base_string.format(\n",
    "            ra=df['ra'][ii],\n",
    "            dec=df['dec'][ii],\n",
    "            name=\"Alt-Az_Target\",\n",
    "            time=time_datetime.isoformat().replace('+00:00', 'Z'),\n",
    "        )\n",
    "    )\n",
    "\n",
    "df['link'] = link"
   ]
  },
  {
   "cell_type": "code",
   "execution_count": null,
   "id": "a4b35f0e-eac3-4260-924d-0d054810757a",
   "metadata": {},
   "outputs": [],
   "source": [
    "print('Time (UTC) =', time_astropy)\n",
    "print('(alt, az) = (%.2f, %.2f)'%(alt, az))"
   ]
  },
  {
   "cell_type": "code",
   "execution_count": null,
   "id": "d7f42afb-68cc-4da9-9fb2-81742ae18d31",
   "metadata": {},
   "outputs": [],
   "source": [
    "df.style.format({'link': make_clickable})"
   ]
  },
  {
   "cell_type": "code",
   "execution_count": null,
   "id": "462963ce-4623-49ac-b234-6b9af597d0a4",
   "metadata": {},
   "outputs": [],
   "source": []
  }
 ],
 "metadata": {
  "kernelspec": {
   "display_name": "LSST",
   "language": "python",
   "name": "lsst"
  },
  "language_info": {
   "codemirror_mode": {
    "name": "ipython",
    "version": 3
   },
   "file_extension": ".py",
   "mimetype": "text/x-python",
   "name": "python",
   "nbconvert_exporter": "python",
   "pygments_lexer": "ipython3",
   "version": "3.12.10"
  }
 },
 "nbformat": 4,
 "nbformat_minor": 5
}
