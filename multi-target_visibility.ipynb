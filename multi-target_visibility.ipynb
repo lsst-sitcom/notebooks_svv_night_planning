{
 "cells": [
  {
   "cell_type": "markdown",
   "id": "3fd32e5c-ef70-42c3-987c-2cd757c250de",
   "metadata": {
    "editable": true,
    "slideshow": {
     "slide_type": ""
    },
    "tags": []
   },
   "source": [
    "# Multi-Target Visibility"
   ]
  },
  {
   "cell_type": "code",
   "execution_count": null,
   "id": "330c470a-a353-47fc-bbca-b2d87c247ba5",
   "metadata": {
    "editable": true,
    "slideshow": {
     "slide_type": ""
    },
    "tags": []
   },
   "outputs": [],
   "source": [
    "# Parameters cell. Set defaults here\n",
    "import datetime\n",
    "time = datetime.datetime.fromisoformat('2025-06-01T23:59:00Z')"
   ]
  },
  {
   "cell_type": "code",
   "execution_count": null,
   "id": "815c902c-e6a6-42fb-bb2f-f31b26940e03",
   "metadata": {
    "editable": true,
    "slideshow": {
     "slide_type": ""
    },
    "tags": []
   },
   "outputs": [],
   "source": [
    "import numpy as np\n",
    "import scipy\n",
    "import pandas as pd\n",
    "\n",
    "from astropy.coordinates import SkyCoord, EarthLocation, get_body\n",
    "import astropy.units as u\n",
    "from astropy.time import Time\n",
    "\n",
    "from astroplan import Observer, FixedTarget\n",
    "from astroplan.plots import plot_airmass, plot_sky\n",
    "\n",
    "import matplotlib.pyplot as plt"
   ]
  },
  {
   "cell_type": "code",
   "execution_count": null,
   "id": "277abca0-6c00-4145-af9d-16adb012c348",
   "metadata": {},
   "outputs": [],
   "source": [
    "import warnings\n",
    "warnings.filterwarnings(\"ignore\")"
   ]
  },
  {
   "cell_type": "markdown",
   "id": "71e5f210-6884-4565-92da-a122300ba564",
   "metadata": {
    "execution": {
     "iopub.execute_input": "2025-04-03T07:14:28.878893Z",
     "iopub.status.busy": "2025-04-03T07:14:28.878674Z",
     "iopub.status.idle": "2025-04-03T07:14:28.881349Z",
     "shell.execute_reply": "2025-04-03T07:14:28.880986Z",
     "shell.execute_reply.started": "2025-04-03T07:14:28.878877Z"
    }
   },
   "source": [
    "## Target Summary"
   ]
  },
  {
   "cell_type": "code",
   "execution_count": null,
   "id": "c04b07b1-0bf2-40fc-8606-57221fc6f499",
   "metadata": {
    "editable": true,
    "slideshow": {
     "slide_type": ""
    },
    "tags": []
   },
   "outputs": [],
   "source": [
    "# All Targets\n",
    "targets = [\n",
    "    FixedTarget(SkyCoord(150.1, 2.18194444, unit='deg', frame='icrs'), name='COSMOS'),\n",
    "    FixedTarget(SkyCoord(161.25929, -59.69994, unit='deg', frame='icrs'), name='Carina'),\n",
    "    #FixedTarget(SkyCoord(174.58333, -63.37278, unit='deg', frame='icrs'), name='IC 2944 (Running Chicken)'),\n",
    "    #FixedTarget(SkyCoord(186.6337, 12.7233, unit='deg', frame='icrs'), name='Virgo'), # Virgo galaxy cluster\n",
    "    FixedTarget(SkyCoord(186.2, 7.0, unit='deg', frame='icrs'), name='M49'), # Near M49 in Virgo galaxy cluster\n",
    "    #FixedTarget(SkyCoord(210.00, -45.00, unit='deg', frame='icrs'), name='Rubin_SV_210_-45'),\n",
    "    FixedTarget(SkyCoord(216.1, -16.7, unit='deg', frame='icrs'), name='Rubin_SV_216_-17'),\n",
    "    FixedTarget(SkyCoord(211.6, -6.9, unit='deg', frame='icrs'), name='Rubin_SV_212_-7'),\n",
    "    FixedTarget(SkyCoord(225.00, -39.1, unit='deg', frame='icrs'), name='Rubin_SV_225_-40'),\n",
    "    #FixedTarget(SkyCoord(250.00, 2.00, unit='deg', frame='icrs'), name='Rubin_SV_250_2'), # Only considered because in the north\n",
    "    FixedTarget(SkyCoord(254.2277, -40.5123, unit='deg', frame='icrs'), name='Prawn'), # IC 4628 (Prawn Nebula), NGC 6231, Dark Tower\n",
    "    FixedTarget(SkyCoord(270.9042, -24.3867, unit='deg', frame='icrs'), name='Trifid-Lagoon'), # M20-M8 Complex\n",
    "    #FixedTarget(SkyCoord(275.0, -15.0, unit='deg', frame='icrs'), name='Eagle-Omega'), # M20-M8 Complex\n",
    "    #FixedTarget(SkyCoord(280.00, -48.00, unit='deg', frame='icrs'), name='Rubin_SV_280_-48'),\n",
    "    #FixedTarget(SkyCoord(300.00, -41.00, unit='deg', frame='icrs'), name='Rubin_SV_300_-41'),\n",
    "    FixedTarget(SkyCoord(289.4, -20.2, unit='deg', frame='icrs'), name='New_Horizons'),\n",
    "]\n",
    "\n",
    "\"\"\"\n",
    "# LSST DDFs\n",
    "targets = [\n",
    "    FixedTarget(SkyCoord(53.125, -28.1, unit='deg', frame='icrs'), name='ECDFS'),\n",
    "    FixedTarget(SkyCoord(59.1004, -48.73, unit='deg', frame='icrs'), name='EDFS'),\n",
    "    FixedTarget(SkyCoord(150.1, 2.18194444, unit='deg', frame='icrs'), name='COSMOS'),\n",
    "    FixedTarget(SkyCoord(9.45, -44.0, unit='deg', frame='icrs'), name='ELAIS_S1'),\n",
    "    FixedTarget(SkyCoord(35.708333, -4.75, unit='deg', frame='icrs'), name='XMM_LSS'),\n",
    "]\n",
    "\"\"\"\n",
    "\n",
    "# Sort by RA\n",
    "targets.sort(key=lambda _: _.coord.ra.deg, reverse=False)"
   ]
  },
  {
   "cell_type": "code",
   "execution_count": null,
   "id": "2078d4a1-9d18-4bd0-920d-66debd95e99e",
   "metadata": {},
   "outputs": [],
   "source": [
    "observer = Observer.at_site('LSST')"
   ]
  },
  {
   "cell_type": "code",
   "execution_count": null,
   "id": "e86742a9-d754-47a4-bd69-019b404ab9c3",
   "metadata": {
    "editable": true,
    "slideshow": {
     "slide_type": ""
    },
    "tags": []
   },
   "outputs": [],
   "source": [
    "def make_clickable(val):\n",
    "    return '<a href=\"{}\">{}</a>'.format(val,'Target Visibility')"
   ]
  },
  {
   "cell_type": "code",
   "execution_count": null,
   "id": "dd210304-7633-4b63-9a7f-0feb9867cfe3",
   "metadata": {
    "editable": true,
    "slideshow": {
     "slide_type": ""
    },
    "tags": []
   },
   "outputs": [],
   "source": [
    "ra = np.array([_.coord.icrs.ra.value for _ in targets])\n",
    "dec = np.array([_.coord.icrs.dec.value for _ in targets])\n",
    "name = [_.name for _ in targets]\n",
    "\n",
    "coord = SkyCoord(ra, dec, unit='deg', frame='icrs')\n",
    "\n",
    "df = pd.DataFrame(data = {\n",
    "    'name': name, \n",
    "    'ra': ra, \n",
    "    'dec': dec,\n",
    "    'l': coord.galactic.l.deg,\n",
    "    'b': coord.galactic.b.deg,\n",
    "    'ecliptic_lon': coord.geocentricmeanecliptic.lon.deg,\n",
    "    'ecliptic_lat': coord.geocentricmeanecliptic.lat.deg,\n",
    "})"
   ]
  },
  {
   "cell_type": "code",
   "execution_count": null,
   "id": "1e3a7d90-03b1-40d6-b375-66beb97d4c33",
   "metadata": {},
   "outputs": [],
   "source": [
    "base_string = 'https://usdf-rsp.slac.stanford.edu/times-square/github/lsst-sitcom/notebooks_svv_night_planning/target_visibility?ra={ra}&dec={dec}&name={name}&time={time}&ts_hide_code=1'\n",
    "link = []\n",
    "for ii in range(0, len(df)):\n",
    "    link.append(\n",
    "        base_string.format(\n",
    "            ra=df['ra'][ii],\n",
    "            dec=df['dec'][ii],\n",
    "            name=df['name'][ii],\n",
    "            time=time.isoformat().replace('+00:00', 'Z'),\n",
    "        )\n",
    "    )\n",
    "\n",
    "df['link'] = link"
   ]
  },
  {
   "cell_type": "code",
   "execution_count": null,
   "id": "e44322df-84f8-4456-9d8f-1dc2e77c740c",
   "metadata": {},
   "outputs": [],
   "source": [
    "df.style.format({'link': make_clickable})"
   ]
  },
  {
   "cell_type": "code",
   "execution_count": null,
   "id": "319fc2e7-e40b-41a1-8497-11ed55dd591f",
   "metadata": {},
   "outputs": [],
   "source": [
    "time = Time(time)"
   ]
  },
  {
   "cell_type": "markdown",
   "id": "ce90f8d4-0a4c-4bc0-bc3a-fc4ec00b872e",
   "metadata": {
    "execution": {
     "iopub.execute_input": "2025-04-03T07:01:55.923229Z",
     "iopub.status.busy": "2025-04-03T07:01:55.922910Z",
     "iopub.status.idle": "2025-04-03T07:01:55.925529Z",
     "shell.execute_reply": "2025-04-03T07:01:55.925146Z",
     "shell.execute_reply.started": "2025-04-03T07:01:55.923212Z"
    }
   },
   "source": [
    "## Basic Information"
   ]
  },
  {
   "cell_type": "code",
   "execution_count": null,
   "id": "8f07f522-5a1b-4ebb-9ba4-23ea0fd9b45d",
   "metadata": {},
   "outputs": [],
   "source": [
    "time_midnight = observer.midnight(time, which='nearest')\n",
    "time_sunset = observer.sun_set_time(time_midnight, which='previous')\n",
    "time_sunrise = observer.sun_rise_time(time_midnight, which='next')\n",
    "\n",
    "if observer.moon_altaz(time_midnight).alt.value > 0.:\n",
    "    time_moonrise = observer.moon_rise_time(time_midnight, which='previous')\n",
    "    time_moonset = observer.moon_set_time(time_midnight, which='next')\n",
    "else:\n",
    "    time_moonrise = observer.moon_rise_time(time_midnight, which='next')\n",
    "    time_moonset = observer.moon_set_time(time_midnight, which='previous')\n",
    "\n",
    "location = EarthLocation.of_site('lsst')\n",
    "sun = get_body('sun', time, location)\n",
    "ra_opposition = (sun.ra.deg - 180.) % 360.\n",
    "moon = get_body('moon', time, location)\n",
    "\n",
    "print('Time (UTC) =', time)\n",
    "print('Time Sunset (UTC) =', time_sunset.iso)\n",
    "print('Time Evening Civil Twilight (UTC) =', observer.twilight_evening_civil(time_midnight, which='previous').iso)\n",
    "print('Time Evening Nautical Twilight (UTC) =', observer.twilight_evening_nautical(time_midnight, which='previous').iso)\n",
    "print('Time Evening Astronomical Twilight (UTC) =', observer.twilight_evening_astronomical(time_midnight, which='previous').iso)\n",
    "print('Time Midnight (UTC) =', time_midnight.iso)\n",
    "print('Time Morning Astronomical Twilight (UTC) =', observer.twilight_morning_astronomical(time_midnight, which='next').iso)\n",
    "print('Time Morning Nautical Twilight (UTC) =', observer.twilight_morning_nautical(time_midnight, which='previous').iso)\n",
    "print('Time Morning Civil Twilight (UTC) =', observer.twilight_morning_civil(time_midnight, which='previous').iso)\n",
    "print('Time Sunrise (UTC) =', time_sunrise.iso)\n",
    "print('Solar Opposition RA (deg) = %.3f'%(ra_opposition))\n",
    "print('Local Sidereal Time (deg) = %.3f'%(observer.local_sidereal_time(time).deg))\n",
    "print('\\nMoon Illumination = %.3f'%(observer.moon_illumination(time)))\n",
    "print('Moonrise time (UTC) =', time_moonrise.iso)\n",
    "print('Moonset time (UTC) =', time_moonset.iso)\n",
    "print('Moon (RA, Dec) = (%.2f, %.2f)'%(moon.ra.deg, moon.dec.deg))\n",
    "print('Moon (alt, az) = (%.2f, %.2f)'%(observer.altaz(time, moon).alt.deg, observer.altaz(time, moon).az.deg))"
   ]
  },
  {
   "cell_type": "code",
   "execution_count": null,
   "id": "4dab702d-4326-4773-afef-037480824490",
   "metadata": {},
   "outputs": [],
   "source": [
    "time_array = time_sunset + np.arange(0., (time_sunrise - time_sunset).to(u.hr).value, 0.1) * u.hr"
   ]
  },
  {
   "cell_type": "markdown",
   "id": "7cd8fdc8-6bf6-45a7-a15a-4978c9edb6f5",
   "metadata": {
    "execution": {
     "iopub.execute_input": "2025-04-03T07:02:06.163269Z",
     "iopub.status.busy": "2025-04-03T07:02:06.162679Z",
     "iopub.status.idle": "2025-04-03T07:02:06.165244Z",
     "shell.execute_reply": "2025-04-03T07:02:06.164865Z",
     "shell.execute_reply.started": "2025-04-03T07:02:06.163251Z"
    }
   },
   "source": [
    "## Visibility on Specified Night"
   ]
  },
  {
   "cell_type": "code",
   "execution_count": null,
   "id": "827767bf-edcd-470a-bb51-f986a88dd3a0",
   "metadata": {},
   "outputs": [],
   "source": [
    "def plotMoon(time):\n",
    "    time_sun_set = observer.sun_set_time(time, which='previous')\n",
    "    time_sun_rise = observer.sun_rise_time(time, which='next')\n",
    "    if observer.moon_altaz(time_sun_set).alt.value > 0.:\n",
    "        print('Moon is up at start of night')\n",
    "        time_moonset = observer.moon_set_time(time_sun_set, which='next')\n",
    "        plt.axvspan(\n",
    "            time_sun_set.plot_date, \n",
    "            min(time_moonset, time_sun_rise).plot_date, \n",
    "            color='yellow', alpha=0.2, zorder=-999,\n",
    "        )\n",
    "    if observer.moon_altaz(time_sun_rise).alt.value > 0.:\n",
    "        print('Moon is up at end of night')\n",
    "        time_moonrise = observer.moon_rise_time(time_sun_rise, which='previous')\n",
    "        plt.axvspan(\n",
    "            max(time_moonrise, time_sun_set).plot_date,\n",
    "            time_sun_rise.plot_date,\n",
    "            color='yellow', alpha=0.2, zorder=-999,\n",
    "        )"
   ]
  },
  {
   "cell_type": "code",
   "execution_count": null,
   "id": "7de34199-8f98-47ae-b126-1de3aa4ddf53",
   "metadata": {},
   "outputs": [],
   "source": [
    "plt.figure()\n",
    "plt.clf()\n",
    "ax = plot_airmass(targets, observer, time, brightness_shading=True, altitude_yaxis=True, max_airmass=2.2)\n",
    "plotMoon(time)\n",
    "ax.legend(loc='lower left', title='Moon Illumination = %.2f'%(observer.moon_illumination(time)))\n",
    "plt.show()"
   ]
  },
  {
   "cell_type": "code",
   "execution_count": null,
   "id": "542c3006-c8dd-484d-a2cd-d2ba56939887",
   "metadata": {
    "editable": true,
    "slideshow": {
     "slide_type": ""
    },
    "tags": []
   },
   "outputs": [],
   "source": [
    "plt.figure()\n",
    "for target in targets:\n",
    "    plot_sky(target, observer, time_array)\n",
    "plt.legend(loc='center left', bbox_to_anchor=(1.2, 0.5))\n",
    "plt.show()"
   ]
  },
  {
   "cell_type": "code",
   "execution_count": null,
   "id": "4d96323d-df26-4499-9679-7b779e20bc40",
   "metadata": {},
   "outputs": [],
   "source": [
    "plt.figure()\n",
    "for target in targets:\n",
    "    plot_sky(target, observer, time)\n",
    "\n",
    "moon_style_kwargs = {\n",
    "    'edgecolor': 'black', \n",
    "    'facecolor': 'white',\n",
    "    's': 100,\n",
    "}\n",
    "if observer.moon_altaz(time).alt.value > 0.:\n",
    "    plot_sky(\n",
    "        FixedTarget(\n",
    "            SkyCoord(moon.ra.deg, moon.dec.deg, unit='deg', frame='icrs'), \n",
    "            name='Moon Illumination = %.2f'%(observer.moon_illumination(time))\n",
    "        ), \n",
    "        observer, \n",
    "        time, \n",
    "        style_kwargs=moon_style_kwargs\n",
    "    )\n",
    "plt.legend(loc='center left', bbox_to_anchor=(1.2, 0.5))\n",
    "plt.suptitle(time)\n",
    "plt.show()"
   ]
  },
  {
   "cell_type": "code",
   "execution_count": null,
   "id": "094cee13-7621-40d2-9634-3c32294776ac",
   "metadata": {},
   "outputs": [],
   "source": [
    "def printTime(time):\n",
    "    return ':'.join(time.iso.split()[1].split(':')[0:2])"
   ]
  },
  {
   "cell_type": "code",
   "execution_count": null,
   "id": "f9437ca3-0e4c-48c3-bfab-5e4c5615c3e1",
   "metadata": {},
   "outputs": [],
   "source": [
    "time_midnight = observer.midnight(time, which='nearest')\n",
    "time_sunset = observer.sun_set_time(time_midnight, which='previous')\n",
    "time_sunrise = observer.sun_rise_time(time_midnight, which='next')\n",
    "time_evening_astronomical_twilight = observer.twilight_evening_astronomical(time_midnight, which='previous')\n",
    "time_morning_astronomical_twilight = observer.twilight_morning_astronomical(time_midnight, which='next')\n",
    "\n",
    "time_array = time_evening_astronomical_twilight \\\n",
    "    + np.arange(0., (time_morning_astronomical_twilight - time_evening_astronomical_twilight).to(u.hr).value, 0.1) * u.hr\n",
    "\n",
    "\n",
    "alt_min = 45.\n",
    "alt_max = 83.\n",
    "lunar_separation_min = 30.\n",
    "close_hrs_sunset = 2.\n",
    "az_hrs_sunset = 3.\n",
    "az_min = 180.\n",
    "az_max = 270.\n",
    "print('alt_min (deg) = %.3f'%(alt_min))\n",
    "print('alt_max (deg) = %.3f'%(alt_max))\n",
    "print('lunar_separation_min (deg) = %.3f'%(lunar_separation_min))\n",
    "print('close_hrs_sunset (hrs) = %.3f'%(close_hrs_sunset))\n",
    "print('az_hrs_sunset (hrs) = %.3f'%(az_hrs_sunset))\n",
    "print('az_min (deg) = %.3f'%(az_min))\n",
    "print('az_max (deg) = %.3f'%(az_max))\n",
    "\n",
    "print('\\nday_obs = %s\\n'%(time_sunset.iso.split()[0]))\n",
    "\n",
    "for target in targets:\n",
    "    time_transit = observer.target_meridian_transit_time(time_midnight, target.coord, which='nearest')\n",
    "    print(target.name)\n",
    "    print('  Transit\\t%s (UTC)'%(printTime(time_transit)))\n",
    "\n",
    "    alt_array = observer.altaz(time_array, target.coord).alt.deg\n",
    "    az_array = observer.altaz(time_array, target.coord).az.deg\n",
    "\n",
    "    altitude_acceptable = (\n",
    "        (alt_array > alt_min) \\\n",
    "        & (alt_array < alt_max)\n",
    "    )\n",
    "    twilight_acceptable = (\n",
    "        (observer.sun_altaz(time_array).alt.value < -18.) \\\n",
    "        & ((time_array - time_sunrise).to(u.hour) < (-1. * close_hrs_sunset * u.hour))\n",
    "    )\n",
    "    azimuth_acceptable = (\n",
    "        ((time_array - time_sunrise).to(u.hour) < (-1. * az_hrs_sunset * u.hour)) \\\n",
    "        | ((az_array > az_min) & (az_array < az_max))\n",
    "    )\n",
    "    lunar_separation_acceptable = (\n",
    "        observer.moon_altaz(time).separation(observer.altaz(time, target.coord)).deg > lunar_separation_min\n",
    "    )\n",
    "\n",
    "    criteria = altitude_acceptable \\\n",
    "        &  twilight_acceptable \\\n",
    "        & azimuth_acceptable \\\n",
    "        & lunar_separation_acceptable\n",
    "    \n",
    "    observable_time_ranges = []\n",
    "    labels, n_labels = scipy.ndimage.label(criteria)\n",
    "    for label in range(0, n_labels):\n",
    "        selection = np.where(labels == (label + 1))[0]\n",
    "\n",
    "        time_start = time_array[np.min(selection)]\n",
    "        time_end = time_array[np.max(selection)]\n",
    "    \n",
    "        print('  Observable\\t%s - %s (UTC)'%(\n",
    "            printTime(time_start),\n",
    "            printTime(time_end),\n",
    "        ))\n",
    "    print('')"
   ]
  },
  {
   "cell_type": "markdown",
   "id": "0f1f9cb8-6fcb-4d9c-880e-33e5145a555f",
   "metadata": {
    "editable": true,
    "slideshow": {
     "slide_type": ""
    },
    "tags": []
   },
   "source": [
    "## Visibility over the Next Month"
   ]
  },
  {
   "cell_type": "code",
   "execution_count": null,
   "id": "bd8ff3b5-f786-40b4-a905-907a38bbe496",
   "metadata": {},
   "outputs": [],
   "source": [
    "time_plus_month = time + 30 * u.day\n",
    "\n",
    "plt.figure()\n",
    "plt.clf()\n",
    "ax = plot_airmass(targets, observer, time_plus_month, brightness_shading=True, altitude_yaxis=True, max_airmass=2.2)\n",
    "plotMoon(time_plus_month)\n",
    "ax.legend(loc='lower left', title='Moon Illumination = %.2f'%(observer.moon_illumination(time_plus_month)))\n",
    "plt.show()"
   ]
  },
  {
   "cell_type": "code",
   "execution_count": null,
   "id": "9bd43a08-ab0b-4150-b970-3f22d2198226",
   "metadata": {},
   "outputs": [],
   "source": [
    "time_next_month = time + np.arange(0., 30., 1.,) * u.day\n",
    "\n",
    "lunar_illumination_next_month = observer.moon_illumination(time_next_month)"
   ]
  },
  {
   "cell_type": "code",
   "execution_count": null,
   "id": "4916cc41-7a41-476c-a2ee-b2c9544431f4",
   "metadata": {},
   "outputs": [],
   "source": [
    "x_ticks = Time(np.floor(time_next_month.mjd), format='mjd')\n",
    "x_tick_labels = np.array([_.iso.split()[0] for _ in x_ticks])"
   ]
  },
  {
   "cell_type": "code",
   "execution_count": null,
   "id": "c100e1c4-fe58-4703-9576-d5058d899d01",
   "metadata": {},
   "outputs": [],
   "source": [
    "fig, ax1 = plt.subplots()\n",
    "ax2 = ax1.twinx()\n",
    "\n",
    "ax1.axhspan(0., 20., alpha=0.2, color='black')\n",
    "\n",
    "for target in targets:\n",
    "    lunar_separation_next_month = observer.moon_altaz(time_next_month).separation(observer.altaz(time_next_month, target.coord)).deg\n",
    "    ax1.plot(time_next_month.mjd, lunar_separation_next_month, label=target.name)\n",
    "\n",
    "ax1.set_ylabel('Lunar Separation (deg)')\n",
    "ax1.set_xticks(x_ticks.mjd[::3], x_tick_labels[::3], rotation=45.)\n",
    "ax1.set_ylim(0., 180.)\n",
    "\n",
    "ax2.plot(time_next_month.mjd, lunar_illumination_next_month, c='black', ls='--')\n",
    "ax2.set_ylabel('Lunar Illumination')\n",
    "ax2.set_ylim(0.,1.)\n",
    "\n",
    "ax1.legend(loc='upper center')\n",
    "\n",
    "fig.tight_layout()"
   ]
  }
 ],
 "metadata": {
  "kernelspec": {
   "display_name": "LSST",
   "language": "python",
   "name": "lsst"
  },
  "language_info": {
   "codemirror_mode": {
    "name": "ipython",
    "version": 3
   },
   "file_extension": ".py",
   "mimetype": "text/x-python",
   "name": "python",
   "nbconvert_exporter": "python",
   "pygments_lexer": "ipython3",
   "version": "3.12.10"
  }
 },
 "nbformat": 4,
 "nbformat_minor": 5
}
