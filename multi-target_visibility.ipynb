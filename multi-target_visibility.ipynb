{
 "cells": [
  {
   "cell_type": "markdown",
   "id": "3fd32e5c-ef70-42c3-987c-2cd757c250de",
   "metadata": {},
   "source": [
    "# Multi-Target Visibility"
   ]
  },
  {
   "cell_type": "code",
   "execution_count": null,
   "id": "330c470a-a353-47fc-bbca-b2d87c247ba5",
   "metadata": {},
   "outputs": [],
   "source": [
    "# Parameters cell. Set defaults here\n",
    "import datetime\n",
    "time = datetime.datetime.fromisoformat('2025-05-01T23:59:00Z')"
   ]
  },
  {
   "cell_type": "code",
   "execution_count": null,
   "id": "815c902c-e6a6-42fb-bb2f-f31b26940e03",
   "metadata": {},
   "outputs": [],
   "source": [
    "import numpy as np\n",
    "import pandas as pd\n",
    "\n",
    "from astropy.coordinates import SkyCoord\n",
    "import astropy.units as u\n",
    "from astropy.time import Time\n",
    "\n",
    "from astroplan import Observer, FixedTarget\n",
    "from astroplan.plots import plot_airmass, plot_sky\n",
    "\n",
    "import matplotlib.pyplot as plt"
   ]
  },
  {
   "cell_type": "code",
   "execution_count": null,
   "id": "277abca0-6c00-4145-af9d-16adb012c348",
   "metadata": {},
   "outputs": [],
   "source": [
    "import warnings\n",
    "warnings.filterwarnings(\"ignore\")"
   ]
  },
  {
   "cell_type": "markdown",
   "id": "71e5f210-6884-4565-92da-a122300ba564",
   "metadata": {
    "execution": {
     "iopub.execute_input": "2025-04-03T07:14:28.878893Z",
     "iopub.status.busy": "2025-04-03T07:14:28.878674Z",
     "iopub.status.idle": "2025-04-03T07:14:28.881349Z",
     "shell.execute_reply": "2025-04-03T07:14:28.880986Z",
     "shell.execute_reply.started": "2025-04-03T07:14:28.878877Z"
    }
   },
   "source": [
    "## Target Summary"
   ]
  },
  {
   "cell_type": "code",
   "execution_count": null,
   "id": "c04b07b1-0bf2-40fc-8606-57221fc6f499",
   "metadata": {},
   "outputs": [],
   "source": [
    "targets = [\n",
    "    FixedTarget(SkyCoord(225.00, -40.00, unit='deg', frame='icrs'), name='Rubin_SV_225_-40'),\n",
    "    FixedTarget(SkyCoord(250.00, 2.00, unit='deg', frame='icrs'), name='Rubin_SV_250_2'), # Only considered because in the north\n",
    "    FixedTarget(SkyCoord(280.00, -48.00, unit='deg', frame='icrs'), name='Rubin_SV_280_-48'),\n",
    "    FixedTarget(SkyCoord(300.00, -41.00, unit='deg', frame='icrs'), name='Rubin_SV_300_-41'),\n",
    "    FixedTarget(SkyCoord(289.4, -20.2, unit='deg', frame='icrs'), name='New_Horizons'),\n",
    "]\n",
    "\n",
    "# Sort by RA\n",
    "targets.sort(key=lambda _: _.coord.ra.deg, reverse=False)"
   ]
  },
  {
   "cell_type": "code",
   "execution_count": null,
   "id": "2078d4a1-9d18-4bd0-920d-66debd95e99e",
   "metadata": {},
   "outputs": [],
   "source": [
    "time = Time(time)\n",
    "observer = Observer.at_site('LSST')"
   ]
  },
  {
   "cell_type": "code",
   "execution_count": null,
   "id": "dd210304-7633-4b63-9a7f-0feb9867cfe3",
   "metadata": {},
   "outputs": [],
   "source": [
    "ra = np.array([_.coord.icrs.ra.value for _ in targets])\n",
    "dec = np.array([_.coord.icrs.dec.value for _ in targets])\n",
    "name = [_.name for _ in targets]\n",
    "\n",
    "df = pd.DataFrame(data = {'name': name, 'ra': ra, 'dec': dec})\n",
    "df"
   ]
  },
  {
   "cell_type": "markdown",
   "id": "ce90f8d4-0a4c-4bc0-bc3a-fc4ec00b872e",
   "metadata": {
    "execution": {
     "iopub.execute_input": "2025-04-03T07:01:55.923229Z",
     "iopub.status.busy": "2025-04-03T07:01:55.922910Z",
     "iopub.status.idle": "2025-04-03T07:01:55.925529Z",
     "shell.execute_reply": "2025-04-03T07:01:55.925146Z",
     "shell.execute_reply.started": "2025-04-03T07:01:55.923212Z"
    }
   },
   "source": [
    "## Basic Information"
   ]
  },
  {
   "cell_type": "code",
   "execution_count": null,
   "id": "8f07f522-5a1b-4ebb-9ba4-23ea0fd9b45d",
   "metadata": {},
   "outputs": [],
   "source": [
    "time_midnight = observer.midnight(time, which='nearest')\n",
    "time_sunset = observer.sun_set_time(time_midnight, which='previous')\n",
    "time_sunrise = observer.sun_rise_time(time_midnight, which='next')\n",
    "\n",
    "if observer.moon_altaz(time_midnight).alt.value > 0.:\n",
    "    time_moonrise = observer.moon_rise_time(time_midnight, which='previous')\n",
    "    time_moonset = observer.moon_set_time(time_midnight, which='next')\n",
    "else:\n",
    "    time_moonrise = observer.moon_rise_time(time_midnight, which='next')\n",
    "    time_moonset = observer.moon_set_time(time_midnight, which='previous')\n",
    "\n",
    "print('Time (UTC) =', time)\n",
    "print('Time Evening Civil Twilight (UTC) =', observer.twilight_evening_civil(time_midnight, which='previous').iso)\n",
    "print('Time Evening Nautical Twilight (UTC) =', observer.twilight_evening_nautical(time_midnight, which='previous').iso)\n",
    "print('Time Evening Astronomical Twilight (UTC) =', observer.twilight_evening_astronomical(time_midnight, which='previous').iso)\n",
    "print('Time Midnight (UTC) =', time_midnight.iso)\n",
    "print('Time Morning Astronomical Twilight (UTC) =', observer.twilight_morning_astronomical(time_midnight, which='next').iso)\n",
    "print('Time Morning Nautical Twilight (UTC) =', observer.twilight_morning_nautical(time_midnight, which='previous').iso)\n",
    "print('Time Morning Civil Twilight (UTC) =', observer.twilight_morning_civil(time_midnight, which='previous').iso)\n",
    "print('Moon Illumination =', observer.moon_illumination(time))\n",
    "print('Moonrise time (UTC) =', time_moonrise.iso)\n",
    "print('Moonset time (UTC) =', time_moonset.iso)"
   ]
  },
  {
   "cell_type": "code",
   "execution_count": null,
   "id": "4dab702d-4326-4773-afef-037480824490",
   "metadata": {},
   "outputs": [],
   "source": [
    "time_array = time_sunset + np.arange(0., (time_sunrise - time_sunset).to(u.hr).value, 0.1) * u.hr"
   ]
  },
  {
   "cell_type": "markdown",
   "id": "7cd8fdc8-6bf6-45a7-a15a-4978c9edb6f5",
   "metadata": {
    "execution": {
     "iopub.execute_input": "2025-04-03T07:02:06.163269Z",
     "iopub.status.busy": "2025-04-03T07:02:06.162679Z",
     "iopub.status.idle": "2025-04-03T07:02:06.165244Z",
     "shell.execute_reply": "2025-04-03T07:02:06.164865Z",
     "shell.execute_reply.started": "2025-04-03T07:02:06.163251Z"
    }
   },
   "source": [
    "## Visibility on Specified Night"
   ]
  },
  {
   "cell_type": "code",
   "execution_count": null,
   "id": "827767bf-edcd-470a-bb51-f986a88dd3a0",
   "metadata": {},
   "outputs": [],
   "source": [
    "def plotMoon(time):\n",
    "    time_sun_set = observer.sun_set_time(time, which='previous')\n",
    "    time_sun_rise = observer.sun_rise_time(time, which='next')\n",
    "    if observer.moon_altaz(time_sun_set).alt.value > 0.:\n",
    "        print('Moon is up at start of night')\n",
    "        time_moonset = observer.moon_set_time(time_sun_set, which='next')\n",
    "        plt.axvspan(\n",
    "            time_sun_set.plot_date, \n",
    "            min(time_moonset, time_sun_rise).plot_date, \n",
    "            color='yellow', alpha=0.2, zorder=-999,\n",
    "        )\n",
    "    if observer.moon_altaz(time_sun_rise).alt.value > 0.:\n",
    "        print('Moon is up at end of night')\n",
    "        time_moonrise = observer.moon_rise_time(time_sun_rise, which='previous')\n",
    "        plt.axvspan(\n",
    "            max(time_moonrise, time_sun_set).plot_date,\n",
    "            time_sun_rise.plot_date,\n",
    "            color='yellow', alpha=0.2, zorder=-999,\n",
    "        )"
   ]
  },
  {
   "cell_type": "code",
   "execution_count": null,
   "id": "7de34199-8f98-47ae-b126-1de3aa4ddf53",
   "metadata": {},
   "outputs": [],
   "source": [
    "plt.figure()\n",
    "plt.clf()\n",
    "ax = plot_airmass(targets, observer, time, brightness_shading=True, altitude_yaxis=True)\n",
    "plotMoon(time)\n",
    "ax.legend(loc='lower right', title='Moon Illumination = %.2f'%(observer.moon_illumination(time)))\n",
    "plt.show()"
   ]
  },
  {
   "cell_type": "code",
   "execution_count": null,
   "id": "542c3006-c8dd-484d-a2cd-d2ba56939887",
   "metadata": {},
   "outputs": [],
   "source": [
    "plt.figure()\n",
    "for target in targets:\n",
    "    plot_sky(target, observer, time_array)\n",
    "plt.legend(loc='lower right')\n",
    "plt.show()"
   ]
  },
  {
   "cell_type": "markdown",
   "id": "0f1f9cb8-6fcb-4d9c-880e-33e5145a555f",
   "metadata": {},
   "source": [
    "## Visibility over the Next Month"
   ]
  },
  {
   "cell_type": "code",
   "execution_count": null,
   "id": "bd8ff3b5-f786-40b4-a905-907a38bbe496",
   "metadata": {},
   "outputs": [],
   "source": [
    "time_plus_month = time + 30 * u.day\n",
    "\n",
    "plt.figure()\n",
    "plt.clf()\n",
    "ax = plot_airmass(targets, observer, time_plus_month, brightness_shading=True, altitude_yaxis=True)\n",
    "plotMoon(time_plus_month)\n",
    "ax.legend(loc='lower right', title='Moon Illumination = %.2f'%(observer.moon_illumination(time_plus_month)))\n",
    "plt.show()"
   ]
  },
  {
   "cell_type": "code",
   "execution_count": null,
   "id": "9bd43a08-ab0b-4150-b970-3f22d2198226",
   "metadata": {},
   "outputs": [],
   "source": [
    "time_next_month = time + np.arange(0., 30., 1.,) * u.day\n",
    "\n",
    "lunar_illumination_next_month = observer.moon_illumination(time_next_month)"
   ]
  },
  {
   "cell_type": "code",
   "execution_count": null,
   "id": "4916cc41-7a41-476c-a2ee-b2c9544431f4",
   "metadata": {},
   "outputs": [],
   "source": [
    "x_ticks = Time(np.floor(time_next_month.mjd), format='mjd')\n",
    "x_tick_labels = np.array([_.iso.split()[0] for _ in x_ticks])"
   ]
  },
  {
   "cell_type": "code",
   "execution_count": null,
   "id": "c100e1c4-fe58-4703-9576-d5058d899d01",
   "metadata": {},
   "outputs": [],
   "source": [
    "fig, ax1 = plt.subplots()\n",
    "ax2 = ax1.twinx()\n",
    "\n",
    "ax1.axhspan(0., 20., alpha=0.2, color='black')\n",
    "\n",
    "for target in targets:\n",
    "    lunar_separation_next_month = observer.moon_altaz(time_next_month).separation(observer.altaz(time_next_month, target.coord)).deg\n",
    "    ax1.plot(time_next_month.mjd, lunar_separation_next_month, label=target.name)\n",
    "\n",
    "ax1.set_ylabel('Lunar Separation (deg)')\n",
    "ax1.set_xticks(x_ticks.mjd[::3], x_tick_labels[::3], rotation=45.)\n",
    "ax1.set_ylim(0., 180.)\n",
    "\n",
    "ax2.plot(time_next_month.mjd, lunar_illumination_next_month, c='black', ls='--')\n",
    "ax2.set_ylabel('Lunar Illumination')\n",
    "ax2.set_ylim(0.,1.)\n",
    "\n",
    "ax1.legend(loc='upper center')\n",
    "\n",
    "fig.tight_layout()"
   ]
  },
  {
   "cell_type": "code",
   "execution_count": null,
   "id": "2159f631-19f9-4642-929f-7c5c423a5cbd",
   "metadata": {},
   "outputs": [],
   "source": []
  }
 ],
 "metadata": {
  "kernelspec": {
   "display_name": "LSST",
   "language": "python",
   "name": "lsst"
  },
  "language_info": {
   "codemirror_mode": {
    "name": "ipython",
    "version": 3
   },
   "file_extension": ".py",
   "mimetype": "text/x-python",
   "name": "python",
   "nbconvert_exporter": "python",
   "pygments_lexer": "ipython3",
   "version": "3.12.9"
  }
 },
 "nbformat": 4,
 "nbformat_minor": 5
}
