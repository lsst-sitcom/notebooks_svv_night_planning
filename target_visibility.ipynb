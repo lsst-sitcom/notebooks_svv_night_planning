{
 "cells": [
  {
   "cell_type": "markdown",
   "id": "cb72cb56-f10a-4bc9-a27a-640786472034",
   "metadata": {},
   "source": [
    "# Target Visibility"
   ]
  },
  {
   "cell_type": "code",
   "execution_count": null,
   "id": "1f620436-49dd-42f5-ad8f-d898b4f624d6",
   "metadata": {},
   "outputs": [],
   "source": [
    "# Parameters cell. Set defaults here\n",
    "import datetime\n",
    "ra = 0.\n",
    "dec = -30.\n",
    "time = datetime.datetime.fromisoformat('2025-05-01T00:00:00Z')"
   ]
  },
  {
   "cell_type": "code",
   "execution_count": null,
   "id": "363ec5ec-3cdd-4027-8e1a-33950af3beb8",
   "metadata": {},
   "outputs": [],
   "source": [
    "import numpy as np\n",
    "import scipy\n",
    "\n",
    "from astropy.coordinates import SkyCoord\n",
    "import astropy.units as u\n",
    "from astropy.time import Time\n",
    "from datetime import datetime\n",
    "from astroplan import Observer, FixedTarget\n",
    "from astroplan.plots import plot_airmass, plot_sky\n",
    "\n",
    "import matplotlib.pyplot as plt"
   ]
  },
  {
   "cell_type": "code",
   "execution_count": null,
   "id": "a777e3f6-93ab-42ca-9e96-0dbbc8051739",
   "metadata": {},
   "outputs": [],
   "source": [
    "print(ra)\n",
    "print(dec)\n",
    "print(time)"
   ]
  },
  {
   "cell_type": "code",
   "execution_count": null,
   "id": "2cb5e1b0-acfb-49d2-87d1-9170e362df7f",
   "metadata": {},
   "outputs": [],
   "source": [
    "observer = Observer.at_site('LSST')"
   ]
  },
  {
   "cell_type": "code",
   "execution_count": null,
   "id": "10676d9f-301a-4c8c-ad87-710142509f59",
   "metadata": {},
   "outputs": [],
   "source": [
    "time = Time(time)\n",
    "coord = SkyCoord(ra=ra, dec=dec, unit='deg', frame='icrs')"
   ]
  },
  {
   "cell_type": "code",
   "execution_count": null,
   "id": "cb1d7f0e-8dcb-4ab2-addc-ee16c702f5e8",
   "metadata": {},
   "outputs": [],
   "source": [
    "time_midnight = observer.midnight(time, which='nearest')\n",
    "time_sunset = observer.sun_set_time(time_midnight, which='previous')\n",
    "time_sunrise = observer.sun_rise_time(time_midnight, which='next')\n",
    "\n",
    "if observer.moon_altaz(time_midnight).alt.value > 0.:\n",
    "    time_moonrise = observer.moon_rise_time(time_midnight, which='previous')\n",
    "    time_moonset = observer.moon_set_time(time_midnight, which='next')\n",
    "else:\n",
    "    time_moonrise = observer.moon_rise_time(time_midnight, which='next')\n",
    "    time_moonset = observer.moon_set_time(time_midnight, which='previous')\n",
    "\n",
    "print('Time (UTC) =', time)\n",
    "print('Time Evening Civil Twilight (UTC) =', observer.twilight_evening_civil(time_midnight, which='previous').iso)\n",
    "print('Time Evening Nautical Twilight (UTC) =', observer.twilight_evening_nautical(time_midnight, which='previous').iso)\n",
    "print('Time Evening Astronomical Twilight (UTC) =', observer.twilight_evening_astronomical(time_midnight, which='previous').iso)\n",
    "print('Time Midnight (UTC) =', time_midnight.iso)\n",
    "print('Time Morning Astronomical Twilight (UTC) =', observer.twilight_morning_astronomical(time_midnight, which='next').iso)\n",
    "print('Time Morning Nautical Twilight (UTC) =', observer.twilight_morning_nautical(time_midnight, which='previous').iso)\n",
    "print('Time Morning Civil Twilight (UTC) =', observer.twilight_morning_civil(time_midnight, which='previous').iso)\n",
    "#print('Target = %s'%(name))\n",
    "print('(RA, Dec) = (%.2f, %2f)'%(ra, dec))\n",
    "print('RA (decimal hours) = %.4f'%(coord.icrs.ra.hour))\n",
    "print('Target Az (deg) =', observer.altaz(time, coord).az.deg)\n",
    "print('Target Alt (deg) =', observer.altaz(time, coord).alt.deg)\n",
    "print('Target Transit (UTC) =', observer.target_meridian_transit_time(time_midnight, coord, which='nearest').iso)\n",
    "print('Moon Illumination =', observer.moon_illumination(time))\n",
    "print('Moonrise time (UTC) =', time_moonrise.iso)\n",
    "print('Moonset time (UTC) =', time_moonset.iso)\n",
    "print('Lunar Separation (deg) =', observer.moon_altaz(time).separation(observer.altaz(time, coord)).deg)"
   ]
  },
  {
   "cell_type": "code",
   "execution_count": null,
   "id": "0530b3e3-318d-4af4-b236-0a4d4f3a6ad4",
   "metadata": {},
   "outputs": [],
   "source": []
  }
 ],
 "metadata": {
  "kernelspec": {
   "display_name": "LSST",
   "language": "python",
   "name": "lsst"
  },
  "language_info": {
   "codemirror_mode": {
    "name": "ipython",
    "version": 3
   },
   "file_extension": ".py",
   "mimetype": "text/x-python",
   "name": "python",
   "nbconvert_exporter": "python",
   "pygments_lexer": "ipython3",
   "version": "3.12.9"
  }
 },
 "nbformat": 4,
 "nbformat_minor": 5
}
