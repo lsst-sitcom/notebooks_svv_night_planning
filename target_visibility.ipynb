{
 "cells": [
  {
   "cell_type": "markdown",
   "id": "cb72cb56-f10a-4bc9-a27a-640786472034",
   "metadata": {},
   "source": [
    "# Target Visibility"
   ]
  },
  {
   "cell_type": "code",
   "execution_count": null,
   "id": "1f620436-49dd-42f5-ad8f-d898b4f624d6",
   "metadata": {},
   "outputs": [],
   "source": [
    "# Parameters cell. Set defaults here\n",
    "import datetime\n",
    "ra = 270.\n",
    "dec = -20.\n",
    "name = 'Test Target'\n",
    "time = datetime.datetime.fromisoformat('2025-05-01T23:59:00Z')"
   ]
  },
  {
   "cell_type": "code",
   "execution_count": null,
   "id": "363ec5ec-3cdd-4027-8e1a-33950af3beb8",
   "metadata": {},
   "outputs": [],
   "source": [
    "import numpy as np\n",
    "import scipy\n",
    "\n",
    "from astropy.coordinates import SkyCoord\n",
    "import astropy.units as u\n",
    "from astropy.time import Time\n",
    "from astroplan import Observer, FixedTarget\n",
    "from astroplan.plots import plot_airmass, plot_sky\n",
    "\n",
    "import matplotlib.pyplot as plt"
   ]
  },
  {
   "cell_type": "code",
   "execution_count": null,
   "id": "50c21147-f111-4ea8-bece-1b0447940ea6",
   "metadata": {},
   "outputs": [],
   "source": [
    "import warnings\n",
    "warnings.filterwarnings(\"ignore\")"
   ]
  },
  {
   "cell_type": "code",
   "execution_count": null,
   "id": "2cb5e1b0-acfb-49d2-87d1-9170e362df7f",
   "metadata": {},
   "outputs": [],
   "source": [
    "observer = Observer.at_site('LSST')"
   ]
  },
  {
   "cell_type": "code",
   "execution_count": null,
   "id": "10676d9f-301a-4c8c-ad87-710142509f59",
   "metadata": {},
   "outputs": [],
   "source": [
    "time = Time(time)\n",
    "coord = SkyCoord(ra=ra, dec=dec, unit='deg', frame='icrs')\n",
    "target = FixedTarget(coord, name=name)"
   ]
  },
  {
   "cell_type": "markdown",
   "id": "74c5972e-c4ab-47e9-a246-df23628d358f",
   "metadata": {},
   "source": [
    "## Basic Information"
   ]
  },
  {
   "cell_type": "code",
   "execution_count": null,
   "id": "cb1d7f0e-8dcb-4ab2-addc-ee16c702f5e8",
   "metadata": {},
   "outputs": [],
   "source": [
    "time_midnight = observer.midnight(time, which='nearest')\n",
    "time_sunset = observer.sun_set_time(time_midnight, which='previous')\n",
    "time_sunrise = observer.sun_rise_time(time_midnight, which='next')\n",
    "\n",
    "if observer.moon_altaz(time_midnight).alt.value > 0.:\n",
    "    time_moonrise = observer.moon_rise_time(time_midnight, which='previous')\n",
    "    time_moonset = observer.moon_set_time(time_midnight, which='next')\n",
    "else:\n",
    "    time_moonrise = observer.moon_rise_time(time_midnight, which='next')\n",
    "    time_moonset = observer.moon_set_time(time_midnight, which='previous')\n",
    "\n",
    "print('Time (UTC) =', time)\n",
    "print('Time Evening Civil Twilight (UTC) =', observer.twilight_evening_civil(time_midnight, which='previous').iso)\n",
    "print('Time Evening Nautical Twilight (UTC) =', observer.twilight_evening_nautical(time_midnight, which='previous').iso)\n",
    "print('Time Evening Astronomical Twilight (UTC) =', observer.twilight_evening_astronomical(time_midnight, which='previous').iso)\n",
    "print('Time Midnight (UTC) =', time_midnight.iso)\n",
    "print('Time Morning Astronomical Twilight (UTC) =', observer.twilight_morning_astronomical(time_midnight, which='next').iso)\n",
    "print('Time Morning Nautical Twilight (UTC) =', observer.twilight_morning_nautical(time_midnight, which='previous').iso)\n",
    "print('Time Morning Civil Twilight (UTC) =', observer.twilight_morning_civil(time_midnight, which='previous').iso)\n",
    "print('Target = %s'%(name))\n",
    "print('(RA, Dec) = (%.2f, %2f)'%(ra, dec))\n",
    "print('RA (decimal hours) = %.4f'%(coord.icrs.ra.hour))\n",
    "print('Target Az (deg) =', observer.altaz(time, coord).az.deg)\n",
    "print('Target Alt (deg) =', observer.altaz(time, coord).alt.deg)\n",
    "print('Target Transit (UTC) =', observer.target_meridian_transit_time(time_midnight, coord, which='nearest').iso)\n",
    "print('Moon Illumination =', observer.moon_illumination(time))\n",
    "print('Moonrise time (UTC) =', time_moonrise.iso)\n",
    "print('Moonset time (UTC) =', time_moonset.iso)\n",
    "print('Lunar Separation (deg) =', observer.moon_altaz(time).separation(observer.altaz(time, coord)).deg)"
   ]
  },
  {
   "cell_type": "code",
   "execution_count": null,
   "id": "fbb199b5-9b20-444d-b574-938496c2325b",
   "metadata": {},
   "outputs": [],
   "source": [
    "time_array = time_sunset + np.arange(0., (time_sunrise - time_sunset).to(u.hr).value, 0.1) * u.hr"
   ]
  },
  {
   "cell_type": "markdown",
   "id": "b8b1f86f-2e1f-45c0-8a8f-82e3009e48ec",
   "metadata": {
    "execution": {
     "iopub.execute_input": "2025-04-03T04:42:43.058696Z",
     "iopub.status.busy": "2025-04-03T04:42:43.058064Z",
     "iopub.status.idle": "2025-04-03T04:42:43.060739Z",
     "shell.execute_reply": "2025-04-03T04:42:43.060343Z",
     "shell.execute_reply.started": "2025-04-03T04:42:43.058676Z"
    }
   },
   "source": [
    "## Visibility on Specified Night"
   ]
  },
  {
   "cell_type": "code",
   "execution_count": null,
   "id": "2d051e53-8e37-4819-bdb3-5bbe1958f843",
   "metadata": {},
   "outputs": [],
   "source": [
    "def plotMoon(time):\n",
    "    time_sun_set = observer.sun_set_time(time, which='previous')\n",
    "    time_sun_rise = observer.sun_rise_time(time, which='next')\n",
    "    if observer.moon_altaz(time_sun_set).alt.value > 0.:\n",
    "        print('Moon is up at start of night')\n",
    "        time_moonset = observer.moon_set_time(time_sun_set, which='next')\n",
    "        plt.axvspan(\n",
    "            time_sun_set.plot_date, \n",
    "            min(time_moonset, time_sun_rise).plot_date, \n",
    "            color='yellow', alpha=0.2, zorder=-999,\n",
    "        )\n",
    "    if observer.moon_altaz(time_sun_rise).alt.value > 0.:\n",
    "        print('Moon is up at end of night')\n",
    "        time_moonrise = observer.moon_rise_time(time_sun_rise, which='previous')\n",
    "        plt.axvspan(\n",
    "            max(time_moonrise, time_sun_set).plot_date,\n",
    "            time_sun_rise.plot_date,\n",
    "            color='yellow', alpha=0.2, zorder=-999,\n",
    "        )"
   ]
  },
  {
   "cell_type": "code",
   "execution_count": null,
   "id": "c9005597-f83c-46ce-a5c3-ef77265cd708",
   "metadata": {},
   "outputs": [],
   "source": [
    "plt.figure()\n",
    "plt.clf()\n",
    "ax = plot_airmass(target, observer, time, brightness_shading=True, altitude_yaxis=True)\n",
    "plotMoon(time)\n",
    "ax.legend(loc='lower right', title='Moon Illumination = %.2f'%(observer.moon_illumination(time)))\n",
    "plt.show()"
   ]
  },
  {
   "cell_type": "code",
   "execution_count": null,
   "id": "8731f79a-3be8-48fd-ad55-0f02ff601f3b",
   "metadata": {},
   "outputs": [],
   "source": [
    "plt.clf()\n",
    "plot_sky(target, observer, time_array)\n",
    "plt.legend(loc='lower right')\n",
    "plt.show()"
   ]
  },
  {
   "cell_type": "code",
   "execution_count": null,
   "id": "0530b3e3-318d-4af4-b236-0a4d4f3a6ad4",
   "metadata": {
    "scrolled": true
   },
   "outputs": [],
   "source": [
    "alt_array = observer.altaz(time_array, coord).alt.deg\n",
    "az_array = observer.altaz(time_array, coord).az.deg\n",
    "\n",
    "print('%30s%15s%15s'%('Time (UTC)', 'Alt (deg)', 'Az (deg)'))\n",
    "for ii in range(0, len(time_array)):\n",
    "    print('%30s%15.2f%15.2f'%(time_array[ii].iso, alt_array[ii], az_array[ii]))"
   ]
  },
  {
   "cell_type": "markdown",
   "id": "355b4646-4d12-4d53-8660-7b7aaeeb6f1b",
   "metadata": {
    "execution": {
     "iopub.execute_input": "2025-04-03T04:57:22.039078Z",
     "iopub.status.busy": "2025-04-03T04:57:22.038801Z",
     "iopub.status.idle": "2025-04-03T04:57:22.041518Z",
     "shell.execute_reply": "2025-04-03T04:57:22.041190Z",
     "shell.execute_reply.started": "2025-04-03T04:57:22.039062Z"
    }
   },
   "source": [
    "## Visibility over the Next Month"
   ]
  },
  {
   "cell_type": "code",
   "execution_count": null,
   "id": "46795e3a-b571-4e36-ac6c-2de7bc14cc3f",
   "metadata": {},
   "outputs": [],
   "source": [
    "time_plus_month = time + 30 * u.day\n",
    "\n",
    "plt.figure()\n",
    "plt.clf()\n",
    "ax = plot_airmass(target, observer, time_plus_month, brightness_shading=True, altitude_yaxis=True)\n",
    "plotMoon(time_plus_month)\n",
    "ax.legend(loc='lower right', title='Moon Illumination = %.2f'%(observer.moon_illumination(time_plus_month)))\n",
    "plt.show()"
   ]
  },
  {
   "cell_type": "code",
   "execution_count": null,
   "id": "a278010b-4da3-4405-870e-bd464285adc2",
   "metadata": {},
   "outputs": [],
   "source": [
    "time_next_month = time + np.arange(0., 30., 1.,) * u.day\n",
    "\n",
    "lunar_illumination_next_month = observer.moon_illumination(time_next_month)"
   ]
  },
  {
   "cell_type": "code",
   "execution_count": null,
   "id": "29226bdb-78fc-47bf-aea0-c60627fbf35f",
   "metadata": {},
   "outputs": [],
   "source": [
    "x_ticks = Time(np.floor(time_next_month.mjd), format='mjd')\n",
    "x_tick_labels = np.array([_.iso.split()[0] for _ in x_ticks])"
   ]
  },
  {
   "cell_type": "code",
   "execution_count": null,
   "id": "645e50aa-7885-4e5a-8817-10854f99b98a",
   "metadata": {},
   "outputs": [],
   "source": [
    "fig, ax1 = plt.subplots()\n",
    "ax2 = ax1.twinx()\n",
    "\n",
    "ax1.axhspan(0., 20., alpha=0.2, color='black')\n",
    "\n",
    "#for target in targets:\n",
    "lunar_separation_next_month = observer.moon_altaz(time_next_month).separation(observer.altaz(time_next_month, target.coord)).deg\n",
    "ax1.plot(time_next_month.mjd, lunar_separation_next_month, label=target.name)\n",
    "\n",
    "ax1.set_ylabel('Lunar Separation (deg)')\n",
    "ax1.set_xticks(x_ticks.mjd[::3], x_tick_labels[::3], rotation=45.)\n",
    "ax1.set_ylim(0., 180.)\n",
    "\n",
    "ax2.plot(time_next_month.mjd, lunar_illumination_next_month, c='black', ls='--')\n",
    "ax2.set_ylabel('Lunar Illumination')\n",
    "ax2.set_ylim(0.,1.)\n",
    "\n",
    "ax1.legend(loc='upper center')\n",
    "\n",
    "fig.tight_layout()"
   ]
  },
  {
   "cell_type": "code",
   "execution_count": null,
   "id": "9ace0859-de19-4b63-a15d-3f6fd169c54e",
   "metadata": {},
   "outputs": [],
   "source": []
  }
 ],
 "metadata": {
  "kernelspec": {
   "display_name": "LSST",
   "language": "python",
   "name": "lsst"
  },
  "language_info": {
   "codemirror_mode": {
    "name": "ipython",
    "version": 3
   },
   "file_extension": ".py",
   "mimetype": "text/x-python",
   "name": "python",
   "nbconvert_exporter": "python",
   "pygments_lexer": "ipython3",
   "version": "3.12.9"
  }
 },
 "nbformat": 4,
 "nbformat_minor": 5
}
