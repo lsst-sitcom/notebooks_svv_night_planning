{
 "cells": [
  {
   "cell_type": "markdown",
   "id": "cb72cb56-f10a-4bc9-a27a-640786472034",
   "metadata": {},
   "source": [
    "# Target Visibility"
   ]
  },
  {
   "cell_type": "code",
   "execution_count": null,
   "id": "1f620436-49dd-42f5-ad8f-d898b4f624d6",
   "metadata": {},
   "outputs": [],
   "source": [
    "# Parameters cell. Set defaults here\n",
    "ra = 0.\n",
    "dec = -30."
   ]
  },
  {
   "cell_type": "code",
   "execution_count": null,
   "id": "363ec5ec-3cdd-4027-8e1a-33950af3beb8",
   "metadata": {},
   "outputs": [],
   "source": [
    "import numpy as np\n",
    "import scipy\n",
    "\n",
    "from astropy.coordinates import SkyCoord\n",
    "import astropy.units as u\n",
    "from astropy.time import Time\n",
    "from datetime import datetime\n",
    "from astroplan import Observer, FixedTarget\n",
    "from astroplan.plots import plot_airmass, plot_sky\n",
    "\n",
    "import matplotlib.pyplot as plt"
   ]
  },
  {
   "cell_type": "code",
   "execution_count": null,
   "id": "a777e3f6-93ab-42ca-9e96-0dbbc8051739",
   "metadata": {},
   "outputs": [],
   "source": [
    "print(ra)\n",
    "print(dec)"
   ]
  },
  {
   "cell_type": "code",
   "execution_count": null,
   "id": "2cb5e1b0-acfb-49d2-87d1-9170e362df7f",
   "metadata": {},
   "outputs": [],
   "source": []
  }
 ],
 "metadata": {
  "kernelspec": {
   "display_name": "LSST",
   "language": "python",
   "name": "lsst"
  },
  "language_info": {
   "codemirror_mode": {
    "name": "ipython",
    "version": 3
   },
   "file_extension": ".py",
   "mimetype": "text/x-python",
   "name": "python",
   "nbconvert_exporter": "python",
   "pygments_lexer": "ipython3",
   "version": "3.12.9"
  }
 },
 "nbformat": 4,
 "nbformat_minor": 5
}
