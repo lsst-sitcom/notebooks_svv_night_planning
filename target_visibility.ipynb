{
 "cells": [
  {
   "cell_type": "markdown",
   "id": "cb72cb56-f10a-4bc9-a27a-640786472034",
   "metadata": {},
   "source": [
    "# Target Visibility"
   ]
  },
  {
   "cell_type": "code",
   "execution_count": null,
   "id": "1f620436-49dd-42f5-ad8f-d898b4f624d6",
   "metadata": {},
   "outputs": [],
   "source": [
    "# Parameters cell. Set defaults here\n",
    "import datetime\n",
    "ra = 270.\n",
    "dec = -20.\n",
    "name = 'Test Target'\n",
    "time = datetime.datetime.fromisoformat('2025-05-01T23:59:00Z')"
   ]
  },
  {
   "cell_type": "code",
   "execution_count": null,
   "id": "363ec5ec-3cdd-4027-8e1a-33950af3beb8",
   "metadata": {},
   "outputs": [],
   "source": [
    "import numpy as np\n",
    "import scipy\n",
    "\n",
    "from astropy.coordinates import SkyCoord, EarthLocation, get_body\n",
    "import astropy.units as u\n",
    "from astropy.time import Time\n",
    "from astroplan import Observer, FixedTarget\n",
    "from astroplan.plots import plot_airmass, plot_sky\n",
    "\n",
    "import matplotlib.pyplot as plt"
   ]
  },
  {
   "cell_type": "code",
   "execution_count": null,
   "id": "50c21147-f111-4ea8-bece-1b0447940ea6",
   "metadata": {},
   "outputs": [],
   "source": [
    "import warnings\n",
    "warnings.filterwarnings('ignore')"
   ]
  },
  {
   "cell_type": "code",
   "execution_count": null,
   "id": "2cb5e1b0-acfb-49d2-87d1-9170e362df7f",
   "metadata": {},
   "outputs": [],
   "source": [
    "observer = Observer.at_site('LSST')"
   ]
  },
  {
   "cell_type": "code",
   "execution_count": null,
   "id": "10676d9f-301a-4c8c-ad87-710142509f59",
   "metadata": {},
   "outputs": [],
   "source": [
    "time = Time(time)\n",
    "coord = SkyCoord(ra=ra, dec=dec, unit='deg', frame='icrs')\n",
    "target = FixedTarget(coord, name=name)"
   ]
  },
  {
   "cell_type": "code",
   "execution_count": null,
   "id": "c6d0e7ce-3455-4e68-bfa4-7871eb14771e",
   "metadata": {},
   "outputs": [],
   "source": [
    "def rotatorSpeed(lat, alt, az):\n",
    "    \"\"\"\n",
    "    All inputs in decimal degrees\n",
    "    \"\"\"\n",
    "    return ((360 * u.deg) / (86400 * u.s)) * np.cos(np.radians(lat)) * np.cos(np.radians(az)) / np.cos(np.radians(alt))"
   ]
  },
  {
   "cell_type": "markdown",
   "id": "74c5972e-c4ab-47e9-a246-df23628d358f",
   "metadata": {},
   "source": [
    "## Basic Information"
   ]
  },
  {
   "cell_type": "code",
   "execution_count": null,
   "id": "cb1d7f0e-8dcb-4ab2-addc-ee16c702f5e8",
   "metadata": {},
   "outputs": [],
   "source": [
    "time_midnight = observer.midnight(time, which='nearest')\n",
    "time_sunset = observer.sun_set_time(time_midnight, which='previous')\n",
    "time_sunrise = observer.sun_rise_time(time_midnight, which='next')\n",
    "\n",
    "if observer.moon_altaz(time_midnight).alt.value > 0.:\n",
    "    time_moonrise = observer.moon_rise_time(time_midnight, which='previous')\n",
    "    time_moonset = observer.moon_set_time(time_midnight, which='next')\n",
    "else:\n",
    "    time_moonrise = observer.moon_rise_time(time_midnight, which='next')\n",
    "    time_moonset = observer.moon_set_time(time_midnight, which='previous')\n",
    "\n",
    "location = EarthLocation.of_site('lsst')\n",
    "sun = get_body('sun', time, location)\n",
    "ra_opposition = (sun.ra.deg - 180.) % 360.\n",
    "moon = get_body('moon', time, location)\n",
    "\n",
    "print('Time (UTC) =', time)\n",
    "print('Time Evening Civil Twilight (UTC) =', observer.twilight_evening_civil(time_midnight, which='previous').iso)\n",
    "print('Time Evening Nautical Twilight (UTC) =', observer.twilight_evening_nautical(time_midnight, which='previous').iso)\n",
    "print('Time Evening Astronomical Twilight (UTC) =', observer.twilight_evening_astronomical(time_midnight, which='previous').iso)\n",
    "print('Time Midnight (UTC) =', time_midnight.iso)\n",
    "print('Time Morning Astronomical Twilight (UTC) =', observer.twilight_morning_astronomical(time_midnight, which='next').iso)\n",
    "print('Time Morning Nautical Twilight (UTC) =', observer.twilight_morning_nautical(time_midnight, which='previous').iso)\n",
    "print('Time Morning Civil Twilight (UTC) =', observer.twilight_morning_civil(time_midnight, which='previous').iso)\n",
    "print('Local Sidereal Time (deg) = %.3f'%(observer.local_sidereal_time(time).deg))\n",
    "print('Solar Opposition RA (deg) = %.3f'%(ra_opposition))\n",
    "print('\\nTarget = %s'%(name))\n",
    "print('(RA, Dec) = (%.2f, %2f)'%(ra, dec))\n",
    "print('RA (decimal hours) = %.4f'%(coord.icrs.ra.hour))\n",
    "print('(alt, az) = (%.2f, %.2f)'%(observer.altaz(time, coord).alt.deg, observer.altaz(time, coord).az.deg))\n",
    "print('Target Transit (UTC) =', observer.target_meridian_transit_time(time_midnight, coord, which='nearest').iso)\n",
    "print('\\nMoon Illumination = %.3f'%(observer.moon_illumination(time)))\n",
    "print('Moonrise time (UTC) =', time_moonrise.iso)\n",
    "print('Moonset time (UTC) =', time_moonset.iso)\n",
    "print('Moon (RA, Dec) = (%.2f, %.2f)'%(moon.ra.deg, moon.dec.deg))\n",
    "print('Moon (alt, az) = (%.2f, %.2f)'%(observer.altaz(time, moon).alt.deg, observer.altaz(time, moon).az.deg))\n",
    "print('Lunar Separation (deg) =', observer.moon_altaz(time).separation(observer.altaz(time, coord)).deg)"
   ]
  },
  {
   "cell_type": "code",
   "execution_count": null,
   "id": "fbb199b5-9b20-444d-b574-938496c2325b",
   "metadata": {},
   "outputs": [],
   "source": [
    "time_array = time_sunset + np.arange(0., (time_sunrise - time_sunset).to(u.hr).value, 0.1) * u.hr"
   ]
  },
  {
   "cell_type": "markdown",
   "id": "b8b1f86f-2e1f-45c0-8a8f-82e3009e48ec",
   "metadata": {
    "execution": {
     "iopub.execute_input": "2025-04-03T04:42:43.058696Z",
     "iopub.status.busy": "2025-04-03T04:42:43.058064Z",
     "iopub.status.idle": "2025-04-03T04:42:43.060739Z",
     "shell.execute_reply": "2025-04-03T04:42:43.060343Z",
     "shell.execute_reply.started": "2025-04-03T04:42:43.058676Z"
    }
   },
   "source": [
    "## Visibility on Specified Night"
   ]
  },
  {
   "cell_type": "code",
   "execution_count": null,
   "id": "2d051e53-8e37-4819-bdb3-5bbe1958f843",
   "metadata": {},
   "outputs": [],
   "source": [
    "def plotMoon(time):\n",
    "    time_sun_set = observer.sun_set_time(time, which='previous')\n",
    "    time_sun_rise = observer.sun_rise_time(time, which='next')\n",
    "    if observer.moon_altaz(time_sun_set).alt.value > 0.:\n",
    "        print('Moon is up at start of night')\n",
    "        time_moonset = observer.moon_set_time(time_sun_set, which='next')\n",
    "        plt.axvspan(\n",
    "            time_sun_set.plot_date, \n",
    "            min(time_moonset, time_sun_rise).plot_date, \n",
    "            color='yellow', alpha=0.2, zorder=-999,\n",
    "        )\n",
    "    if observer.moon_altaz(time_sun_rise).alt.value > 0.:\n",
    "        print('Moon is up at end of night')\n",
    "        time_moonrise = observer.moon_rise_time(time_sun_rise, which='previous')\n",
    "        plt.axvspan(\n",
    "            max(time_moonrise, time_sun_set).plot_date,\n",
    "            time_sun_rise.plot_date,\n",
    "            color='yellow', alpha=0.2, zorder=-999,\n",
    "        )"
   ]
  },
  {
   "cell_type": "code",
   "execution_count": null,
   "id": "c9005597-f83c-46ce-a5c3-ef77265cd708",
   "metadata": {},
   "outputs": [],
   "source": [
    "plt.figure()\n",
    "plt.clf()\n",
    "ax = plot_airmass(target, observer, time, brightness_shading=True, altitude_yaxis=True)\n",
    "plotMoon(time)\n",
    "ax.legend(loc='lower right', title='Moon Illumination = %.2f'%(observer.moon_illumination(time)))\n",
    "plt.show()"
   ]
  },
  {
   "cell_type": "code",
   "execution_count": null,
   "id": "8731f79a-3be8-48fd-ad55-0f02ff601f3b",
   "metadata": {},
   "outputs": [],
   "source": [
    "plt.clf()\n",
    "plot_sky(target, observer, time_array)\n",
    "plt.legend(loc='center left', bbox_to_anchor=(1.2, 0.5))\n",
    "plt.show()"
   ]
  },
  {
   "cell_type": "code",
   "execution_count": null,
   "id": "c05c9244-795d-4676-9812-1a154cb68830",
   "metadata": {},
   "outputs": [],
   "source": [
    "plt.figure()\n",
    "plot_sky(target, observer, time)\n",
    "\n",
    "moon_style_kwargs = {\n",
    "    'edgecolor': 'black', \n",
    "    'facecolor': 'white',\n",
    "    's': 100,\n",
    "}\n",
    "if observer.moon_altaz(time).alt.value > 0.:\n",
    "    plot_sky(\n",
    "        FixedTarget(\n",
    "            SkyCoord(moon.ra.deg, moon.dec.deg, unit='deg', frame='icrs'), \n",
    "            name='Moon Illumination = %.2f'%(observer.moon_illumination(time))\n",
    "        ), \n",
    "        observer, \n",
    "        time, \n",
    "        style_kwargs=moon_style_kwargs\n",
    "    )\n",
    "plt.legend(loc='center left', bbox_to_anchor=(1.2, 0.5))\n",
    "plt.suptitle(time)\n",
    "plt.show()"
   ]
  },
  {
   "cell_type": "code",
   "execution_count": null,
   "id": "0530b3e3-318d-4af4-b236-0a4d4f3a6ad4",
   "metadata": {
    "scrolled": true
   },
   "outputs": [],
   "source": [
    "alt_array = observer.altaz(time_array, coord).alt.deg\n",
    "az_array = observer.altaz(time_array, coord).az.deg\n",
    "rotator_speed_array = rotatorSpeed(observer.latitude.deg, alt_array, az_array).value\n",
    "\n",
    "print('%30s%15s%15s%30s'%('Time (UTC)', 'Alt (deg)', 'Az (deg)', 'Rotator Speed (deg/sec)'))\n",
    "for ii in range(0, len(time_array)):\n",
    "    print('%30s%15.2f%15.2f%30.3f'%(time_array[ii].iso, alt_array[ii], az_array[ii], rotator_speed_array[ii]))"
   ]
  },
  {
   "cell_type": "markdown",
   "id": "33afbb60-af6e-416b-9fb9-4b64b64c373c",
   "metadata": {},
   "source": [
    "# Observation Windows"
   ]
  },
  {
   "cell_type": "code",
   "execution_count": null,
   "id": "ccb0b926-407f-4855-834e-eeacc0953d7a",
   "metadata": {},
   "outputs": [],
   "source": [
    "def printTime(time):\n",
    "    return ':'.join(time.iso.split()[1].split(':')[0:2])"
   ]
  },
  {
   "cell_type": "code",
   "execution_count": null,
   "id": "2fd03ca5-16a6-40a7-90ea-a17a0d47e192",
   "metadata": {},
   "outputs": [],
   "source": [
    "time_midnight = observer.midnight(time, which='nearest')\n",
    "time_sunset = observer.sun_set_time(time_midnight, which='previous')\n",
    "time_sunrise = observer.sun_rise_time(time_midnight, which='next')\n",
    "time_evening_astronomical_twilight = observer.twilight_evening_astronomical(time_midnight, which='previous')\n",
    "time_morning_astronomical_twilight = observer.twilight_morning_astronomical(time_midnight, which='next')\n",
    "\n",
    "time_array = time_evening_astronomical_twilight \\\n",
    "    + np.arange(0., (time_morning_astronomical_twilight - time_evening_astronomical_twilight).to(u.hr).value, 0.1) * u.hr\n",
    "\n",
    "\n",
    "alt_min = 45.\n",
    "alt_max = 83.\n",
    "lunar_separation_min = 30.\n",
    "close_hrs_sunset = 2.\n",
    "az_hrs_sunset = 3.\n",
    "az_min = 180.\n",
    "az_max = 270.\n",
    "print('alt_min (deg) = %.3f'%(alt_min))\n",
    "print('alt_max (deg) = %.3f'%(alt_max))\n",
    "print('lunar_separation_min (deg) = %.3f'%(lunar_separation_min))\n",
    "print('close_hrs_sunset (hrs) = %.3f'%(close_hrs_sunset))\n",
    "print('az_hrs_sunset (hrs) = %.3f'%(close_hrs_sunset))\n",
    "print('az_min (deg) = %.3f'%(az_min))\n",
    "print('az_max (deg) = %.3f'%(az_max))\n",
    "\n",
    "print('\\nday_obs = %s\\n'%(time_sunset.iso.split()[0]))\n",
    "\n",
    "for target in [target]:\n",
    "    time_transit = observer.target_meridian_transit_time(time_midnight, target.coord, which='nearest')\n",
    "    print(target.name)\n",
    "    print('  Transit\\t%s (UTC)'%(printTime(time_transit)))\n",
    "\n",
    "    alt_array = observer.altaz(time_array, target.coord).alt.deg\n",
    "    az_array = observer.altaz(time_array, target.coord).az.deg\n",
    "\n",
    "    altitude_acceptable = (\n",
    "        (alt_array > alt_min) \\\n",
    "        & (alt_array < alt_max)\n",
    "    )\n",
    "    twilight_acceptable = (\n",
    "        (observer.sun_altaz(time_array).alt.value < -18.) \\\n",
    "        & ((time_array - time_sunrise).to(u.hour) < (-1. * close_hrs_sunset * u.hour))\n",
    "    )\n",
    "    azimuth_acceptable = (\n",
    "        ((time_array - time_sunrise).to(u.hour) < (-1. * az_hrs_sunset * u.hour)) \\\n",
    "        | ((az_array > az_min) & (az_array < az_max))\n",
    "    )\n",
    "    lunar_separation_acceptable = (\n",
    "        observer.moon_altaz(time).separation(observer.altaz(time, target.coord)).deg > lunar_separation_min\n",
    "    )\n",
    "\n",
    "    criteria = altitude_acceptable \\\n",
    "        &  twilight_acceptable \\\n",
    "        & azimuth_acceptable \\\n",
    "        & lunar_separation_acceptable\n",
    "    \n",
    "    observable_time_ranges = []\n",
    "    labels, n_labels = scipy.ndimage.label(criteria)\n",
    "    for label in range(0, n_labels):\n",
    "        selection = np.where(labels == (label + 1))[0]\n",
    "\n",
    "        time_start = time_array[np.min(selection)]\n",
    "        time_end = time_array[np.max(selection)]\n",
    "    \n",
    "        print('  Observable\\t%s - %s (UTC)'%(\n",
    "            printTime(time_start),\n",
    "            printTime(time_end),\n",
    "        ))\n",
    "    print('')"
   ]
  },
  {
   "cell_type": "markdown",
   "id": "355b4646-4d12-4d53-8660-7b7aaeeb6f1b",
   "metadata": {
    "execution": {
     "iopub.execute_input": "2025-04-03T04:57:22.039078Z",
     "iopub.status.busy": "2025-04-03T04:57:22.038801Z",
     "iopub.status.idle": "2025-04-03T04:57:22.041518Z",
     "shell.execute_reply": "2025-04-03T04:57:22.041190Z",
     "shell.execute_reply.started": "2025-04-03T04:57:22.039062Z"
    }
   },
   "source": [
    "## Visibility over the Next Month"
   ]
  },
  {
   "cell_type": "code",
   "execution_count": null,
   "id": "46795e3a-b571-4e36-ac6c-2de7bc14cc3f",
   "metadata": {},
   "outputs": [],
   "source": [
    "time_plus_month = time + 30 * u.day\n",
    "\n",
    "plt.figure()\n",
    "plt.clf()\n",
    "ax = plot_airmass(target, observer, time_plus_month, brightness_shading=True, altitude_yaxis=True)\n",
    "plotMoon(time_plus_month)\n",
    "ax.legend(loc='lower right', title='Moon Illumination = %.2f'%(observer.moon_illumination(time_plus_month)))\n",
    "plt.show()"
   ]
  },
  {
   "cell_type": "code",
   "execution_count": null,
   "id": "a278010b-4da3-4405-870e-bd464285adc2",
   "metadata": {},
   "outputs": [],
   "source": [
    "time_next_month = time + np.arange(0., 30., 1.,) * u.day\n",
    "\n",
    "lunar_illumination_next_month = observer.moon_illumination(time_next_month)"
   ]
  },
  {
   "cell_type": "code",
   "execution_count": null,
   "id": "29226bdb-78fc-47bf-aea0-c60627fbf35f",
   "metadata": {},
   "outputs": [],
   "source": [
    "x_ticks = Time(np.floor(time_next_month.mjd), format='mjd')\n",
    "x_tick_labels = np.array([_.iso.split()[0] for _ in x_ticks])"
   ]
  },
  {
   "cell_type": "code",
   "execution_count": null,
   "id": "645e50aa-7885-4e5a-8817-10854f99b98a",
   "metadata": {},
   "outputs": [],
   "source": [
    "fig, ax1 = plt.subplots()\n",
    "ax2 = ax1.twinx()\n",
    "\n",
    "ax1.axhspan(0., 20., alpha=0.2, color='black')\n",
    "\n",
    "#for target in targets:\n",
    "lunar_separation_next_month = observer.moon_altaz(time_next_month).separation(observer.altaz(time_next_month, target.coord)).deg\n",
    "ax1.plot(time_next_month.mjd, lunar_separation_next_month, label=target.name)\n",
    "\n",
    "ax1.set_ylabel('Lunar Separation (deg)')\n",
    "ax1.set_xticks(x_ticks.mjd[::3], x_tick_labels[::3], rotation=45.)\n",
    "ax1.set_ylim(0., 180.)\n",
    "\n",
    "ax2.plot(time_next_month.mjd, lunar_illumination_next_month, c='black', ls='--')\n",
    "ax2.set_ylabel('Lunar Illumination')\n",
    "ax2.set_ylim(0.,1.)\n",
    "\n",
    "ax1.legend(loc='upper center')\n",
    "\n",
    "fig.tight_layout()"
   ]
  },
  {
   "cell_type": "code",
   "execution_count": null,
   "id": "9ace0859-de19-4b63-a15d-3f6fd169c54e",
   "metadata": {},
   "outputs": [],
   "source": []
  },
  {
   "cell_type": "code",
   "execution_count": null,
   "id": "3add2706-180e-41ff-9cfc-50d246392ee0",
   "metadata": {},
   "outputs": [],
   "source": []
  }
 ],
 "metadata": {
  "kernelspec": {
   "display_name": "LSST",
   "language": "python",
   "name": "lsst"
  },
  "language_info": {
   "codemirror_mode": {
    "name": "ipython",
    "version": 3
   },
   "file_extension": ".py",
   "mimetype": "text/x-python",
   "name": "python",
   "nbconvert_exporter": "python",
   "pygments_lexer": "ipython3",
   "version": "3.12.10"
  }
 },
 "nbformat": 4,
 "nbformat_minor": 5
}
