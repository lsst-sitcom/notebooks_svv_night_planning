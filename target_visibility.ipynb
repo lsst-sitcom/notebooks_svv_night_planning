{
 "cells": [
  {
   "cell_type": "markdown",
   "id": "cb72cb56-f10a-4bc9-a27a-640786472034",
   "metadata": {},
   "source": [
    "# Target Visibility"
   ]
  },
  {
   "cell_type": "code",
   "execution_count": null,
   "id": "1f620436-49dd-42f5-ad8f-d898b4f624d6",
   "metadata": {},
   "outputs": [],
   "source": [
    "# Parameters cell. Set defaults here"
   ]
  },
  {
   "cell_type": "code",
   "execution_count": null,
   "id": "363ec5ec-3cdd-4027-8e1a-33950af3beb8",
   "metadata": {},
   "outputs": [],
   "source": [
    "print(\"Hello World\")"
   ]
  },
  {
   "cell_type": "code",
   "execution_count": null,
   "id": "a777e3f6-93ab-42ca-9e96-0dbbc8051739",
   "metadata": {},
   "outputs": [],
   "source": []
  }
 ],
 "metadata": {
  "kernelspec": {
   "display_name": "LSST",
   "language": "python",
   "name": "lsst"
  },
  "language_info": {
   "codemirror_mode": {
    "name": "ipython",
    "version": 3
   },
   "file_extension": ".py",
   "mimetype": "text/x-python",
   "name": "python",
   "nbconvert_exporter": "python",
   "pygments_lexer": "ipython3",
   "version": "3.12.9"
  }
 },
 "nbformat": 4,
 "nbformat_minor": 5
}
